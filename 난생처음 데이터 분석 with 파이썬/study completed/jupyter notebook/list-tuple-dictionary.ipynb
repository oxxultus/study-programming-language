{
 "cells": [
  {
   "cell_type": "markdown",
   "id": "698c8656-a001-4d56-a91a-71479a00bdc6",
   "metadata": {},
   "source": [
    "# 리스트 - 대괄호 - 넘파이"
   ]
  },
  {
   "cell_type": "code",
   "execution_count": null,
   "id": "44fb0e32-347b-4c9c-81e0-667c42c4ba50",
   "metadata": {},
   "outputs": [],
   "source": [
    "a = 10\n",
    "b = 20\n",
    "c = a * b\n",
    "\n",
    "# 포맷팅된 문자열을 사용한 출력\n",
    "print(a, \"*\", b, '=', c)\n",
    "print(\"{} * {} = {}\".format(a, b, c))  # .format() 메서드 사용\n",
    "print(\"{0} * {1} = {2}\".format(a, b, c))  # 위치 인자를 사용한 .format() 메서드\n",
    "\n",
    "# f-문자열을 사용한 출력 (Python 3.6+에서 사용 가능)\n",
    "print(f\"{a} * {b} = {c}\")  # f-문자열 사용\n",
    "\n",
    "# 변수 a부터 h까지의 값을 포함하는 리스트 listA를 생성합니다.\n",
    "# listA = [a, b, c, d, e, f, g, h]\n",
    "listA = [10, 20, 200, 40, 50, 60, 70, 80]\n",
    "# 윗 코드는 변수가 정의되면 사용이 가능하지만 일반적으로는 사용이 불가능\n",
    "\n",
    "# 숫자 5, 9, 12, 8, 30을 포함하는 리스트 listB를 생성합니다.\n",
    "listB = [5, 9, 12, 8, 30]\n",
    "\n",
    "# 리스트 listA와 리스트 listB를 결합하여 리스트 listC를 생성합니다.\n",
    "# listA의 모든 요소가 listB의 요소 뒤에 추가됩니다.\n",
    "listC = listA + listB\n",
    "print(listC)\n",
    "\n",
    "# 아래의 두 줄은 잘못된 문법.\n",
    "# listA * listB는 두 리스트를 곱하는 것이 아니라, 리스트 listA를 listB의 원소 수만큼 반복하여 새로운 리스트를 만드려고 시도하는 것입니다.\n",
    "# listB * 3은 listB를 세 번 반복하여 새로운 리스트를 만드는 것으로, 결과를 할당하지 않았으므로 아무 효과도 없습니다.\n",
    "# 따라서 이 두 줄의 코드는 주석 처리합니다.\n",
    "# listC = listA * listB\n",
    "# listB * 3"
   ]
  },
  {
   "cell_type": "code",
   "execution_count": 3,
   "id": "7db5fadf-467c-4350-9467-335551cae354",
   "metadata": {},
   "outputs": [
    {
     "name": "stdout",
     "output_type": "stream",
     "text": [
      "40 5\n",
      "[200, 10, 15]\n",
      "[10, 15, 20]\n",
      "[200, 10, 15, 20, 25]\n",
      "[20, 25, 30, 35, 50]\n",
      "[200, 10, 15, 9999, 25, 30, 35, 50]\n",
      "[200, 10, 15, 25, 30, 35, 50, 100]\n",
      "[777, 200, 10, 15, 25, 97, 30, 35, 50, 100]\n"
     ]
    }
   ],
   "source": [
    "# 리스트 listC를 생성합니다.\n",
    "listC = [5, 10, 15, 20, 25, 30, 35, 40]\n",
    "\n",
    "# 리스트 listC의 마지막 요소와 첫 번째 요소를 각각 반환하여 출력합니다.\n",
    "print(listC[-1], listC[0])\n",
    "\n",
    "# 리스트 listC의 첫 번째 요소를 200으로 변경합니다.\n",
    "listC[0] = 200\n",
    "\n",
    "# 리스트 listC의 마지막 요소를 50으로 변경합니다.\n",
    "listC[-1] = 50\n",
    "\n",
    "# listC의 인덱스 0부터 2까지의 요소를 슬라이싱하여 반환\n",
    "# 결과: [5, 10, 15]\n",
    "print(listC[0:3])\n",
    "\n",
    "# listC의 인덱스 1부터 3까지의 요소를 슬라이싱하여 반환\n",
    "# 결과: [10, 15, 20]\n",
    "print(listC[1:4])\n",
    "\n",
    "# listC의 처음부터 인덱스 4까지의 요소를 슬라이싱하여 반환\n",
    "# 결과: [5, 10, 15, 20, 25]\n",
    "print(listC[:5])\n",
    "\n",
    "# listC의 인덱스 3부터 마지막 요소까지 슬라이싱하여 반환\n",
    "# 결과: [20, 25, 30, 35, 40, 50]\n",
    "print(listC[3:])\n",
    "\n",
    "# listC의 인덱스 3의 값을 9999로 변경합니다.\n",
    "listC[3] = 9999\n",
    "\n",
    "# 변경된 listC를 출력합니다.\n",
    "print(listC)\n",
    "\n",
    "# 리스트 listC의 끝에 100을 추가합니다.\n",
    "listC.append(100)\n",
    "\n",
    "# 만약 리스트 listC에 9999가 포함되어 있다면\n",
    "if 9999 in listC:\n",
    "    # 리스트에서 9999를 제거합니다.\n",
    "    listC.remove(9999)\n",
    "else:\n",
    "    # 리스트에 9999가 없는 경우 메시지를 출력합니다.\n",
    "    print(\"9999 없음\")\n",
    "\n",
    "# 변경된 listC를 출력합니다.\n",
    "print(listC)\n",
    "\n",
    "# 리스트의 인덱스 0 위치에 777을 삽입합니다.\n",
    "listC.insert(0, 777)\n",
    "\n",
    "# 리스트의 인덱스 5 위치에 97을 삽입합니다.\n",
    "listC.insert(5, 97)\n",
    "\n",
    "# 변경된 listC를 출력합니다.\n",
    "print(listC)"
   ]
  },
  {
   "cell_type": "code",
   "execution_count": 4,
   "id": "68caf385-d84e-42aa-b9a7-c465b56342a1",
   "metadata": {},
   "outputs": [
    {
     "name": "stdout",
     "output_type": "stream",
     "text": [
      "[897, 2, 1, 4, 99, 5.24, 17]\n",
      "[1, 2, 4, 5.24, 17, 99, 897]\n"
     ]
    }
   ],
   "source": [
    "# 리스트를 생성\n",
    "list_1 = [897, 2, 1, 4, 99, 5.24, 17]\n",
    "\n",
    "# 생성된 리스트를 출력합니다.\n",
    "print(list_1)\n",
    "\n",
    "# 리스트를 정렬합니다.\n",
    "list_1.sort()\n",
    "\n",
    "# 오름차순으로 정렬된 리스트를 다시 역순으로 정렬합니다.\n",
    "# reverse = True 옵션을 사용하여 역순으로 정렬합니다.\n",
    "list_1.sort(reverse=True)\n",
    "\n",
    "# 정렬된 리스트를 다시 역순으로 뒤집습니다.\n",
    "list_1.reverse()\n",
    "\n",
    "# list_1 출력\n",
    "print(list_1)"
   ]
  },
  {
   "cell_type": "code",
   "execution_count": 5,
   "id": "4d18eb20-b707-41f7-89ba-ba0f0075f0b5",
   "metadata": {},
   "outputs": [
    {
     "name": "stdout",
     "output_type": "stream",
     "text": [
      "True\n",
      "False\n"
     ]
    },
    {
     "data": {
      "text/plain": [
       "5.0"
      ]
     },
     "execution_count": 5,
     "metadata": {},
     "output_type": "execute_result"
    }
   ],
   "source": [
    "a = 3\n",
    "b = [1, 3, 5, 7, 9]\n",
    "\n",
    "# 변수 a가 리스트 b 안에 포함되어 있는지 확인하고 결과를 출력합니다.\n",
    "# 결과: True (3은 리스트 b 안에 있음)\n",
    "print(a in b)\n",
    "\n",
    "# 변수 a가 리스트 b 안에 포함되어 있지 않은지 확인하고 결과를 출력합니다.\n",
    "# 결과: False (3은 리스트 b 안에 있으므로 포함되어 있지 않음을 나타냄)\n",
    "print(a not in b)\n",
    "\n",
    "# 리스트 b의 합을 계산합니다.\n",
    "sum(b)\n",
    "\n",
    "# 리스트 b의 최댓값을 찾습니다.\n",
    "max(b)\n",
    "\n",
    "# 리스트 b의 최솟값을 찾습니다.\n",
    "min(b)\n",
    "\n",
    "# 리스트 b의 길이(요소의 개수)를 반환합니다.\n",
    "len(b)\n",
    "\n",
    "# 리스트 b의 합을 요소의 개수로 나누어 평균을 계산합니다.\n",
    "# 평균을 구할 때는 sum(b) / len(b)와 같은 방법으로 계산합니다.\n",
    "# 결과: 리스트 b의 요소들의 평균값\n",
    "sum(b) / len(b)"
   ]
  },
  {
   "cell_type": "markdown",
   "id": "3fef5f64-7d11-4850-9df8-a2e154f23064",
   "metadata": {},
   "source": [
    "# 딕셔너리 - 중괄호 - 판다스"
   ]
  },
  {
   "cell_type": "code",
   "execution_count": 7,
   "id": "95b65bcb-b8d2-4927-bde1-47eb3692a3cd",
   "metadata": {},
   "outputs": [
    {
     "name": "stdout",
     "output_type": "stream",
     "text": [
      "{'name': '홍길동', 'birth': 1990, 'addr': 'KR'}\n",
      "1990\n",
      "{'name': '홍길동', 'birth': 1990, 'addr': 'KR', 'weight': 60.5, 'family': ['아빠', '엄마', '여동생']}\n",
      "{'name': '홍길동', 'birth': 1990, 'addr': 'KR', 'weight': 67.8, 'family': ['아빠', '엄마', '여동생'], 'hobby': ['게임', '독서']}\n",
      "{'name': '홍길동', 'birth': 1990, 'addr': 'KR', 'weight': 67.8, 'family': ['아빠', '엄마', '여동생'], 'hobby': ['축구', '등산']}\n"
     ]
    }
   ],
   "source": [
    "# 딕셔너리를 생성합니다. 키와 값의 쌍으로 이루어집니다.\n",
    "# 키 'name'에 해당하는 값은 '홍길동', 키 'birth'에 해당하는 값은 1990, 키 'addr'에 해당하는 값은 'KR'입니다.\n",
    "dict_1 = {'name': '홍길동', 'birth': 1990, 'addr': 'KR'}\n",
    "\n",
    "# 생성된 딕셔너리를 출력합니다.\n",
    "print(dict_1)\n",
    "\n",
    "# 딕셔너리에서 'birth' 키에 해당하는 값을 출력합니다.\n",
    "# 결과: 1990\n",
    "print(dict_1['birth'])\n",
    "\n",
    "# 딕셔너리에 새로운 키와 값을 추가합니다.\n",
    "# 'weight' 키에는 60.5라는 값을 할당하고, 'family' 키에는 리스트 ['아빠', '엄마', '여동생']를 할당합니다.\n",
    "dict_1['weight'] = 60.5\n",
    "dict_1['family'] = ['아빠', '엄마', '여동생']\n",
    "\n",
    "# 변경된 딕셔너리를 출력합니다.\n",
    "print(dict_1)\n",
    "\n",
    "# 딕셔너리 dict_1에 새로운 키와 값을 업데이트합니다.\n",
    "# 'weight' 키에는 67.8이라는 값을 할당하고, 'hobby' 키에는 리스트 ['게임', '독서']를 할당합니다.\n",
    "dict_1.update({'weight': 67.8, 'hobby': ['게임', '독서']})\n",
    "\n",
    "# 변경된 딕셔너리를 출력합니다.\n",
    "print(dict_1)\n",
    "\n",
    "# 딕셔너리 dict_1에서 'hobby' 키에 해당하는 값을 새로운 값으로 변경합니다.\n",
    "# 'hobby' 키에는 리스트 ['축구', '등산']를 할당합니다.\n",
    "dict_1['hobby'] = ['축구', '등산']\n",
    "\n",
    "# 변경된 딕셔너리를 출력합니다.\n",
    "print(dict_1)"
   ]
  },
  {
   "cell_type": "code",
   "execution_count": null,
   "id": "7d5b1583-3116-4548-89fb-c29706634c0c",
   "metadata": {},
   "outputs": [],
   "source": [
    "# 딕셔너리 dict_1에서 'weight' 키와 해당하는 값을 삭제합니다.\n",
    "del dict_1['weight']\n",
    "# 'age' 키에 해당하는 값을 반환하고 해당 키-값 쌍을 딕셔너리에서 제거합니다.\n",
    "removed_value = dict_1.pop('hobby')\n",
    "# 딕셔너리의 모든 요소를 제거합니다.\n",
    "dict_1.clear()"
   ]
  },
  {
   "cell_type": "code",
   "execution_count": 9,
   "id": "ecf5eca4-c060-44b3-9bfc-07a3ba55d0cc",
   "metadata": {},
   "outputs": [
    {
     "name": "stdout",
     "output_type": "stream",
     "text": [
      "Keys: dict_keys(['name', 'age', 'city'])\n",
      "Values: dict_values(['John', 30, 'New York'])\n",
      "Items: dict_items([('name', 'John'), ('age', 30), ('city', 'New York')])\n",
      "Length: 3\n",
      "Type: <class 'dict'>\n"
     ]
    }
   ],
   "source": [
    "# 딕셔너리 생성\n",
    "my_dict = {'name': 'John', 'age': 30, 'city': 'New York'}\n",
    "\n",
    "# keys() 함수를 사용하여 딕셔너리의 키(key)들을 가져옵니다.\n",
    "keys = my_dict.keys()\n",
    "print(\"Keys:\", keys)  # 출력: Keys: dict_keys(['name', 'age', 'city'])\n",
    "\n",
    "# values() 함수를 사용하여 딕셔너리의 값(value)들을 가져옵니다.\n",
    "values = my_dict.values()\n",
    "print(\"Values:\", values)  # 출력: Values: dict_values(['John', 30, 'New York'])\n",
    "\n",
    "# items() 함수를 사용하여 딕셔너리의 (키, 값) 쌍을 가져옵니다.\n",
    "items = my_dict.items()\n",
    "print(\"Items:\", items)  # 출력: Items: dict_items([('name', 'John'), ('age', 30), ('city', 'New York')])\n",
    "\n",
    "# len() 함수를 사용하여 딕셔너리의 길이(키-값 쌍의 개수)를 가져옵니다.\n",
    "length = len(my_dict)\n",
    "print(\"Length:\", length)  # 출력: Length: 3\n",
    "\n",
    "# type() 함수를 사용하여 딕셔너리의 타입을 확인합니다.\n",
    "dict_type = type(my_dict)\n",
    "print(\"Type:\", dict_type)  # 출력: Type: <class 'dict'>"
   ]
  },
  {
   "cell_type": "code",
   "execution_count": null,
   "id": "24ec69c6-697d-4282-a0fe-53e4b7dd0241",
   "metadata": {},
   "outputs": [],
   "source": []
  }
 ],
 "metadata": {
  "kernelspec": {
   "display_name": "Python 3 (ipykernel)",
   "language": "python",
   "name": "python3"
  },
  "language_info": {
   "codemirror_mode": {
    "name": "ipython",
    "version": 3
   },
   "file_extension": ".py",
   "mimetype": "text/x-python",
   "name": "python",
   "nbconvert_exporter": "python",
   "pygments_lexer": "ipython3",
   "version": "3.12.2"
  }
 },
 "nbformat": 4,
 "nbformat_minor": 5
}
