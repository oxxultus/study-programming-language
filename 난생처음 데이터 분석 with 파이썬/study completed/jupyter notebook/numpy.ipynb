{
 "cells": [
  {
   "cell_type": "markdown",
   "id": "d1fb67e6-aae1-4b50-801b-f5dbf44ad8ed",
   "metadata": {},
   "source": [
    "# 넘파이 - list"
   ]
  },
  {
   "cell_type": "code",
   "execution_count": 1,
   "id": "760b9a78-5e32-448c-9a65-025e1ed94611",
   "metadata": {},
   "outputs": [],
   "source": [
    "import numpy  # numpy 모듈을 불러옵니다.\n",
    "\n",
    "import numpy as np  # numpy 모듈을 np라는 이름으로 불러옵니다.\n",
    "\n",
    "from numpy import *  # numpy 모듈 내의 모든 함수와 클래스를 현재 네임스페이스로 불러옵니다."
   ]
  },
  {
   "cell_type": "markdown",
   "id": "7293d568-3b2c-43e4-8a27-3c3b6e171eb3",
   "metadata": {},
   "source": [
    "#### import numpy"
   ]
  },
  {
   "cell_type": "code",
   "execution_count": 2,
   "id": "125b8970-5ff9-4d0a-9594-4bd01375ff86",
   "metadata": {},
   "outputs": [],
   "source": [
    "# numpy.이름 으로 사용"
   ]
  },
  {
   "cell_type": "markdown",
   "id": "c34fddc3-f498-4d8d-9055-0e38602ab701",
   "metadata": {},
   "source": [
    "#### import numpy as np"
   ]
  },
  {
   "cell_type": "code",
   "execution_count": 3,
   "id": "bb67f08e-3f19-41b6-b917-36c51a176434",
   "metadata": {},
   "outputs": [],
   "source": [
    "# np.이름 으로 사용"
   ]
  },
  {
   "cell_type": "markdown",
   "id": "ed852bd0-c634-4198-90dc-39a4b94bd51f",
   "metadata": {},
   "source": [
    "#### from numpy import * "
   ]
  },
  {
   "cell_type": "code",
   "execution_count": 4,
   "id": "d64dc2ca-bad3-45ec-9f40-f8188a592a1d",
   "metadata": {},
   "outputs": [],
   "source": [
    "# 현제 네임스페이스로 불러왔기 때문에 numpy내의 정보를 바로 사용가능\n",
    "# 예 : np.array -> array()"
   ]
  },
  {
   "cell_type": "code",
   "execution_count": 5,
   "id": "c2965994-c9c3-4ae1-bccf-5c46da1b20c0",
   "metadata": {},
   "outputs": [
    {
     "name": "stdout",
     "output_type": "stream",
     "text": [
      "[1, 2, 10, 1, 2, 10, 1, 2, 10]\n",
      "[ 3  6 30]\n",
      "[15 27 30 36]\n"
     ]
    }
   ],
   "source": [
    "list = [1, 2, 10]  # 리스트를 생성합니다.\n",
    "\n",
    "# 리스트를 3번 반복하여 새로운 리스트를 생성합니다.\n",
    "# 결과: [1, 2, 10, 1, 2, 10, 1, 2, 10]\n",
    "# 리스트는 숫자가 아니기 때문에 곱셈 연산자(*)는 리스트를 반복하는 역할을 합니다.\n",
    "print(list * 3)\n",
    "\n",
    "arr = np.array(list)  # 리스트를 numpy 배열로 변환합니다.\n",
    "# 숫자로 이루어진 경우에만 배열로 전환가능하다.\n",
    "\n",
    "# numpy 배열의 모든 요소에 3을 곱한 새로운 배열을 생성합니다.\n",
    "# 배열의 값은 숫자이기 때문에 각 요소에 곱셈 연산자(*)가 적용되어 새로운 값을 생성합니다.\n",
    "# 결과: [ 3  6 30]\n",
    "print(arr * 3)\n",
    "\n",
    "arr2 = np.array([5, 9, 10, 12])  # 다른 numpy 배열을 생성합니다.\n",
    "\n",
    "# 다른 numpy 배열의 모든 요소에 3을 곱한 새로운 배열을 생성합니다.\n",
    "# 결과: [15 27 30 36]\n",
    "print(arr2 * 3)\n"
   ]
  },
  {
   "cell_type": "code",
   "execution_count": 6,
   "id": "61b7fadd-c450-44d9-b1b9-aab2bd5d37c4",
   "metadata": {},
   "outputs": [
    {
     "name": "stdout",
     "output_type": "stream",
     "text": [
      "[[1, 2, 3], [4, 5, 6], [7, 8, 9]]\n",
      "3\n",
      "[[1 2 3]\n",
      " [4 5 6]\n",
      " [7 8 9]]\n",
      "<class 'numpy.ndarray'>\n"
     ]
    }
   ],
   "source": [
    "data = [[1, 2, 3], [4, 5, 6], [7, 8, 9]]  # 2차원 리스트를 생성합니다.\n",
    "\n",
    "print(data)  # 2차원 리스트를 출력합니다.\n",
    "# 출력: [[1, 2, 3], [4, 5, 6], [7, 8, 9]]\n",
    "\n",
    "print(len(data))  # 2차원 리스트의 길이를 출력합니다.\n",
    "# 출력: 3\n",
    "\n",
    "arr = np.array(data)  # 2차원 리스트를 NumPy 배열로 변환합니다.\n",
    "\n",
    "print(arr)  # NumPy 배열을 출력합니다.\n",
    "# 출력: \n",
    "# [[1 2 3]\n",
    "#  [4 5 6]\n",
    "#  [7 8 9]]\n",
    "\n",
    "print(type(arr))  # NumPy 배열의 데이터 타입을 출력합니다."
   ]
  },
  {
   "cell_type": "code",
   "execution_count": 7,
   "id": "c35ffdd0-1156-4dc3-9906-7dead46c5925",
   "metadata": {},
   "outputs": [
    {
     "name": "stdout",
     "output_type": "stream",
     "text": [
      "float64\n",
      "int8\n"
     ]
    },
    {
     "data": {
      "text/plain": [
       "array([[1001, 1002, 1003],\n",
       "       [1004, 1005, 1006],\n",
       "       [1007, 1008, 1009]])"
      ]
     },
     "execution_count": 7,
     "metadata": {},
     "output_type": "execute_result"
    }
   ],
   "source": [
    "a = np.array([1, 2], dtype=np.float64)  # 정수로 이루어진 리스트를 부동 소수점 타입의 NumPy 배열로 생성합니다.\n",
    "print(a.dtype)  # 배열의 데이터 타입을 출력합니다.\n",
    "# 출력: float64 (부동 소수점 타입)\n",
    "\n",
    "b = a.astype(np.int8)  # 배열의 데이터 타입을 int8로 변환하여 새로운 배열을 생성합니다.\n",
    "print(b.dtype)  # 새로운 배열의 데이터 타입을 출력합니다.\n",
    "# 출력: int8 (8비트 정수 타입)\n",
    "\n",
    "arr * 2  # 배열의 모든 요소에 2를 곱한 값을 반환합니다.\n",
    "# 예를 들어, [[1, 2, 3], [4, 5, 6], [7, 8, 9]] 배열이 있다면 모든 요소에 2를 곱한 값을 반환합니다.\n",
    "\n",
    "arr + 1000  # 배열의 모든 요소에 1000을 더한 값을 반환합니다.\n",
    "# 예를 들어, [[1, 2, 3], [4, 5, 6], [7, 8, 9]] 배열이 있다면 모든 요소에 1000을 더한 값을 반환합니다."
   ]
  },
  {
   "cell_type": "code",
   "execution_count": 8,
   "id": "2b9a6eb9-74b3-4798-963a-9286e9b8b2bf",
   "metadata": {},
   "outputs": [
    {
     "name": "stdout",
     "output_type": "stream",
     "text": [
      "<class 'numpy.ndarray'>\n",
      "9\n",
      "2\n",
      "(3, 3)\n",
      "int64\n",
      "<numpy.flatiter object at 0x10781c400>\n",
      "72\n",
      "[[1 4 7]\n",
      " [2 5 8]\n",
      " [3 6 9]]\n"
     ]
    }
   ],
   "source": [
    "arr = np.array([[1, 2, 3], [4, 5, 6], [7, 8, 9]])  # NumPy 배열을 생성합니다.\n",
    "\n",
    "print(type(arr))  # arr의 데이터 타입을 출력합니다.\n",
    "# 출력: <class 'numpy.ndarray'>\n",
    "\n",
    "print(arr.size)  # arr의 총 요소 개수를 출력합니다.\n",
    "# 출력: 9\n",
    "\n",
    "print(arr.ndim)  # arr의 차원 수를 출력합니다.\n",
    "# 출력: 2 (2차원 배열)\n",
    "\n",
    "print(arr.shape)  # arr의 형태를 나타내는 튜플을 출력합니다.\n",
    "# 출력: (3, 3) (3행 3열의 배열)\n",
    "\n",
    "print(arr.dtype)  # arr의 데이터 타입을 출력합니다.\n",
    "# 출력: int64 (64비트 정수 타입)\n",
    "\n",
    "print(arr.flat)  # arr의 각 요소에 대한 이터레이터(사이즈)를 출력합니다.\n",
    "# 출력: <numpy.flatiter object at 0x7fe460df5c10>\n",
    "\n",
    "print(arr.nbytes)  # arr의 메모리 사용량을 출력합니다.\n",
    "# 출력: 72 (바이트 단위)\n",
    "\n",
    "print(arr.T)  # arr의 전치 행렬(Transpose)을 출력합니다.\n",
    "# 출력: \n",
    "# [[1 4 7]\n",
    "#  [2 5 8]\n",
    "#  [3 6 9]]"
   ]
  },
  {
   "cell_type": "code",
   "execution_count": 9,
   "id": "08e25b19-ccc9-43b5-a8ff-f7953fa41ba7",
   "metadata": {},
   "outputs": [
    {
     "data": {
      "text/plain": [
       "array([[1, 2, 3],\n",
       "       [4, 5, 6],\n",
       "       [7, 8, 9]])"
      ]
     },
     "execution_count": 9,
     "metadata": {},
     "output_type": "execute_result"
    }
   ],
   "source": [
    "arr[1, 2]  # arr 배열에서 인덱스가 (1, 2)인 요소를 가져옵니다.\n",
    "# 출력: 6\n",
    "# 이는 2차원 배열에서 두 번째 행(인덱스 1)의 세 번째 열(인덱스 2)의 요소를 의미합니다.\n",
    "\n",
    "arr[1][2]  # arr 배열에서 인덱스가 1인 행의 인덱스가 2인 요소를 가져옵니다.\n",
    "# 출력: 6\n",
    "# 이는 두 번째 행(인덱스 1)의 세 번째 열(인덱스 2)의 요소를 의미합니다.\n",
    "\n",
    "arr[:2, :]  # arr 배열에서 처음부터 2번째 행까지 모든 열을 가져옵니다.\n",
    "# 출력: \n",
    "# array([[1, 2, 3],\n",
    "#        [4, 5, 6]])\n",
    "# 이는 2차원 배열에서 처음부터 두 번째 행까지의 모든 요소를 가져오는 슬라이싱 연산입니다.\n",
    "\n",
    "arr[:, 1]  # arr 배열에서 모든 행의 두 번째 열을 가져옵니다.\n",
    "# 출력: array([2, 5, 8])\n",
    "# 이는 2차원 배열에서 각 행의 두 번째 열의 요소를 가져오는 슬라이싱 연산입니다.\n",
    "\n",
    "arr[:, :3]  # arr 배열에서 모든 행의 처음부터 세 번째 열까지의 요소를 가져옵니다.\n",
    "# 출력: \n",
    "# array([[1, 2, 3],\n",
    "#        [4, 5, 6],\n",
    "#        [7, 8, 9]])\n",
    "# 이는 2차원 배열에서 각 행의 처음부터 세 번째 열까지의 요소를 가져오는 슬라이싱 연산입니다.\n"
   ]
  },
  {
   "cell_type": "code",
   "execution_count": 10,
   "id": "d580c8dd-8c8c-4977-8624-c3cb98814700",
   "metadata": {},
   "outputs": [
    {
     "name": "stdout",
     "output_type": "stream",
     "text": [
      "<class 'range'>\n",
      "range(0, 5)\n",
      "<class 'numpy.ndarray'>\n",
      "[0 1 2 3 4 5]\n"
     ]
    }
   ],
   "source": [
    "# 배열의 디폴트는 float형 입니다.\n",
    "\n",
    "np.zeros((2, 3))  # 2x3 크기의 영행렬을 생성합니다.\n",
    "# 출력:\n",
    "# array([[0., 0., 0.],\n",
    "#        [0., 0., 0.]])\n",
    "# 모든 요소가 0인 2x3 크기의 배열을 생성합니다.\n",
    "\n",
    "np.ones((2, 3))  # 2x3 크기의 일행렬을 생성합니다.\n",
    "# 출력:\n",
    "# array([[1., 1., 1.],\n",
    "#        [1., 1., 1.]])\n",
    "# 모든 요소가 1인 2x3 크기의 배열을 생성합니다.\n",
    "\n",
    "np.full((2, 3), 2)  # 2x3 크기이고 모든 요소가 2인 배열을 생성합니다.\n",
    "# 출력:\n",
    "# array([[2, 2, 2],\n",
    "#        [2, 2, 2]])\n",
    "# 모든 요소가 2인 2x3 크기의 배열을 생성합니다.\n",
    "\n",
    "np.eye(3)  # 3x3 크기의 단위 행렬(대각 요소는 1이고 나머지는 0인 행렬)을 생성합니다.\n",
    "# 출력:\n",
    "# array([[1., 0., 0.],\n",
    "#        [0., 1., 0.],\n",
    "#        [0., 0., 1.]])\n",
    "# 대각선 요소가 1이고 나머지 요소가 0인 3x3 크기의 단위 행렬을 생성합니다.\n",
    "\n",
    "x = range(5)  # range 함수를 사용하여 0부터 4까지의 정수를 생성합니다.\n",
    "\n",
    "print(type(x))  # x의 데이터 타입을 출력합니다.\n",
    "# 출력: <class 'range'>\n",
    "# range 함수를 사용하여 생성된 객체는 range 타입입니다.\n",
    "\n",
    "print(x)  # x 변수를 출력합니다.\n",
    "# 출력: range(0, 5)\n",
    "# range 함수를 사용하여 생성된 객체의 내용을 출력합니다.\n",
    "\n",
    "y = np.arange(6)  # NumPy의 arange 함수를 사용하여 0부터 5까지의 정수를 생성합니다.\n",
    "print(type(y))  # y의 데이터 타입을 출력합니다.\n",
    "# 출력: <class 'numpy.ndarray'>\n",
    "# arange 함수를 사용하여 생성된 객체는 NumPy의 ndarray 타입입니다.\n",
    "\n",
    "print(y)  # y 변수를 출력합니다.\n",
    "# 출력: array([0, 1, 2, 3, 4, 5])\n",
    "# arange 함수를 사용하여 생성된 배열의 내용을 출력합니다."
   ]
  },
  {
   "cell_type": "code",
   "execution_count": 11,
   "id": "0d96eba0-f96c-4c3e-b325-45c3c8faf87e",
   "metadata": {},
   "outputs": [
    {
     "name": "stdout",
     "output_type": "stream",
     "text": [
      "[0. 1. 2. 3. 4. 5.]\n",
      "[[0 1 2]\n",
      " [3 4 5]]\n",
      "[0 1 2 3 4 5]\n",
      "[[0 1]\n",
      " [2 3]\n",
      " [4 5]]\n"
     ]
    }
   ],
   "source": [
    "z = y.astype(np.float32)  # 배열 y의 데이터 타입을 float32로 변환하여 새로운 배열 z를 생성합니다.\n",
    "print(z)  # 배열 z를 출력합니다.\n",
    "# 출력: [0. 1. 2. 3. 4. 5.]\n",
    "# 배열 y의 모든 요소를 부동 소수점 타입으로 변환한 배열을 출력합니다.\n",
    "\n",
    "y.shape = (2, 3)  # 배열 y의 형태를 2x3으로 변경합니다.\n",
    "print(y)  # 배열 y를 출력합니다.\n",
    "# 출력:\n",
    "# [[0 1 2]\n",
    "#  [3 4 5]]\n",
    "# 배열 y의 형태가 2x3으로 변경된 것을 출력합니다.\n",
    "\n",
    "y = y.flatten()  # 다차원 배열 y를 1차원으로 평탄화합니다.\n",
    "print(y)\n",
    "\n",
    "y.resize(3, 2)  # 배열 y의 형태를 3x2로 변경합니다.\n",
    "print(y)  # 배열 y를 출력합니다.\n",
    "# 출력:\n",
    "# [[0 1]\n",
    "#  [2 3]\n",
    "#  [4 5]]\n",
    "# 다차원 배열을 1차원으로 평탄화한 후 다시 3x2 형태로 변경한 배열을 출력합니다."
   ]
  },
  {
   "cell_type": "code",
   "execution_count": 12,
   "id": "d3390843-61b7-42a7-92ae-f239c48479a5",
   "metadata": {
    "scrolled": true
   },
   "outputs": [
    {
     "name": "stdout",
     "output_type": "stream",
     "text": [
      "[[ 0  1  2]\n",
      " [ 3  4  5]\n",
      " [ 6  7  8]\n",
      " [ 9 10 11]]\n",
      "[[0 1 2]\n",
      " [3 4 5]\n",
      " [5 5 5]\n",
      " [5 5 5]]\n",
      "[[ 0]\n",
      " [ 1]\n",
      " [ 2]\n",
      " [ 3]\n",
      " [ 4]\n",
      " [ 5]\n",
      " [ 6]\n",
      " [ 7]\n",
      " [ 8]\n",
      " [ 9]\n",
      " [10]\n",
      " [11]]\n",
      "[[ 0  1]\n",
      " [ 2  3]\n",
      " [ 4  5]\n",
      " [ 6  7]\n",
      " [ 8  9]\n",
      " [10 11]]\n"
     ]
    }
   ],
   "source": [
    "data = np.arange(12).reshape(4, 3)  # 0부터 11까지의 정수로 이루어진 배열을 4x3 형태로 재구성합니다.\n",
    "print(data)  # 배열 data를 출력합니다.\n",
    "# 출력:\n",
    "# [[ 0  1  2]\n",
    "#  [ 3  4  5]\n",
    "#  [ 6  7  8]\n",
    "#  [ 9 10 11]]\n",
    "# 4x3 형태로 재구성된 배열을 출력합니다.\n",
    "\n",
    "data > 5  # 배열 data의 각 요소에 대해 5보다 큰지 여부를 확인하여 불리언 배열을 생성합니다.\n",
    "# 출력:\n",
    "# array([[False, False, False],\n",
    "#        [False, False, False],\n",
    "#        [ True,  True,  True],\n",
    "#        [ True,  True,  True]])\n",
    "\n",
    "data[data > 5]  # 배열 data에서 5보다 큰 요소들로 이루어진 배열을 추출합니다.\n",
    "# 출력: array([ 6,  7,  8,  9, 10, 11])\n",
    "# 배열 data에서 5보다 큰 요소들로 이루어진 배열을 출력합니다.\n",
    "\n",
    "data[data > 5] = 5  # 배열 data에서 5보다 큰 요소들을 5로 대체합니다.\n",
    "print(data)  # 대체된 배열 data를 출력합니다.\n",
    "# 출력:\n",
    "# [[0 1 2]\n",
    "#  [3 4 5]\n",
    "#  [5 5 5]\n",
    "#  [5 5 5]]\n",
    "# 배열 data에서 5보다 큰 요소들을 5로 대체한 후의 배열을 출력합니다.\n",
    "\n",
    "data = np.arange(12).reshape(12, 1)  # 0부터 11까지의 정수로 이루어진 배열을 12x1 형태로 재구성합니다.\n",
    "print(data)  # 배열 data를 출력합니다.\n",
    "# 출력:\n",
    "# [[ 0]\n",
    "#  [ 1]\n",
    "#  [ 2]\n",
    "#  [ 3]\n",
    "#  [ 4]\n",
    "#  [ 5]\n",
    "#  [ 6]\n",
    "#  [ 7]\n",
    "#  [ 8]\n",
    "#  [ 9]\n",
    "#  [10]\n",
    "#  [11]]\n",
    "# 12x1 형태로 재구성된 배열을 출력합니다.\n",
    "\n",
    "data = np.arange(12).reshape(6, 2)  # 0부터 11까지의 정수로 이루어진 배열을 6x2 형태로 재구성합니다.\n",
    "print(data)  # 배열 data를 출력합니다.\n",
    "# 출력:\n",
    "# [[ 0  1]\n",
    "#  [ 2  3]\n",
    "#  [ 4  5]\n",
    "#  [ 6  7]\n",
    "#  [ 8  9]\n",
    "#  [10 11]]\n",
    "# 6x2 형태로 재구성된 배열을 출력합니다."
   ]
  },
  {
   "cell_type": "code",
   "execution_count": 13,
   "id": "eb27eef0-c336-42c5-bbe9-e10ce7bdbd72",
   "metadata": {},
   "outputs": [
    {
     "data": {
      "text/plain": [
       "array([[2, 3],\n",
       "       [0, 1]])"
      ]
     },
     "execution_count": 13,
     "metadata": {},
     "output_type": "execute_result"
    }
   ],
   "source": [
    "data.sum()  # 배열 data의 모든 요소의 합을 계산합니다.\n",
    "# 출력: 66\n",
    "# 배열의 모든 요소를 더한 값을 반환합니다.\n",
    "\n",
    "data.sum(axis=0)  # 배열 data의 각 열의 합을 계산합니다.\n",
    "# 출력: array([18, 22, 26])\n",
    "# 각 열의 합을 반환합니다.\n",
    "\n",
    "data.sum(axis=1)  # 배열 data의 각 행의 합을 계산합니다.\n",
    "# 출력: array([ 3, 12, 21, 30])\n",
    "# 각 행의 합을 반환합니다.\n",
    "\n",
    "data.mean()  # 배열 data의 모든 요소의 평균을 계산합니다.\n",
    "# 출력: 5.5\n",
    "# 배열의 모든 요소의 평균 값을 반환합니다.\n",
    "\n",
    "data[0]  # 배열 data의 첫 번째 행을 선택합니다.\n",
    "# 출력: array([0, 1, 2])\n",
    "# 첫 번째 행을 선택하여 출력합니다.\n",
    "\n",
    "data[[0]]  # 배열 data의 첫 번째 행을 2차원 배열로 선택합니다.\n",
    "# 출력: \n",
    "# array([[0, 1, 2]])\n",
    "# 첫 번째 행을 2차원 배열로 선택하여 출력합니다.\n",
    "\n",
    "data[[1, 0]]  # 배열 data에서 인덱스가 1과 0인 행을 순서대로 선택합니다.\n",
    "# 출력: \n",
    "# array([[ 3,  4,  5],\n",
    "#        [ 0,  1,  2]])\n",
    "# 인덱스가 1과 0인 행을 순서대로 선택하여 출력합니다.\n"
   ]
  },
  {
   "cell_type": "code",
   "execution_count": 29,
   "id": "e0874ae9-9cc2-4bc7-8108-38c1d91379d1",
   "metadata": {},
   "outputs": [
    {
     "name": "stdout",
     "output_type": "stream",
     "text": [
      "a\n",
      " [[0 1 2]\n",
      " [3 4 5]\n",
      " [6 7 8]]\n",
      "b\n",
      " [[0 3 6]\n",
      " [1 4 7]\n",
      " [2 5 8]]\n",
      "c\n",
      " [[0 1 2]\n",
      " [3 4 5]\n",
      " [6 7 8]]\n",
      "0.5124843693804038\n",
      "4\n",
      "2\n",
      "data\n",
      " [[0.50675096 0.92816742]\n",
      " [0.39055374 0.25152551]\n",
      " [0.84026664 0.222187  ]\n",
      " [0.85769591 0.45919461]]\n",
      "data\n",
      " [[ 1.78120551  0.82721623]\n",
      " [-0.63208117 -1.98152376]\n",
      " [ 0.73005216 -0.71327738]\n",
      " [-0.92524564  0.03982015]]\n",
      "data\n",
      " [[5 2]\n",
      " [9 1]\n",
      " [2 6]\n",
      " [9 8]]\n",
      "mask\n",
      " [False  True  True False]\n",
      "\n",
      " data a print\n",
      " [[0 1 2]\n",
      " [3 4 5]\n",
      " [6 7 8]]\n",
      "\n",
      " masking data :  [[-0.53475568 -2.98922527]\n",
      " [-0.05482895  0.55058211]]\n",
      "\n",
      " inverted masking :  [[-0.49337366 -1.62872144]\n",
      " [ 0.54326569  1.30097923]]\n",
      "[1 2 3 4 5]\n",
      "None\n",
      "[0 1 2 3 4]\n"
     ]
    }
   ],
   "source": [
    "a = np.array([[0,1,2], [3,4,5],[6,7,8]])\n",
    "print('a\\n',a)\n",
    "b = a.transpose()\n",
    "print('b\\n',b)\n",
    "\n",
    "c = b.T\n",
    "print('c\\n',c)\n",
    "\n",
    "import random as r\n",
    "print(r.random())\n",
    "print(r.randint(1,10))\n",
    "print(r.randrange(1,10))\n",
    "\n",
    "data = np.random.rand(4,2)\n",
    "print('data\\n',data)\n",
    "data = np.random.randn(4,2)\n",
    "print('data\\n',data)\n",
    "\n",
    "\n",
    "data = np.random.randint(1,10,(4,2))\n",
    "print('data\\n',data)\n",
    "\n",
    "mask = np.array([0,1,1,0], dtype=bool)\n",
    "print('mask\\n',mask)\n",
    "\n",
    "data = np.random.randn(4,2)\n",
    "print('\\n data a print\\n',a)\n",
    "print('\\n masking data : ',data[mask])\n",
    "print('\\n inverted masking : ',data[~mask])\n"
   ]
  },
  {
   "cell_type": "code",
   "execution_count": 38,
   "id": "e99723cf-a580-48e9-9be1-251c775744ef",
   "metadata": {},
   "outputs": [
    {
     "name": "stdout",
     "output_type": "stream",
     "text": [
      "[1 2 3 4 5]\n",
      "None\n",
      "[0 1 2 3 4]\n",
      "[[6 1]\n",
      " [3 3]\n",
      " [1 2]\n",
      " [9 8]]\n",
      "[[2.44948974 1.        ]\n",
      " [1.73205081 1.73205081]\n",
      " [1.         1.41421356]\n",
      " [3.         2.82842712]]\n",
      "[[-12  -2]\n",
      " [ -6  -6]\n",
      " [ -2  -4]\n",
      " [-18 -16]]\n"
     ]
    }
   ],
   "source": [
    "a = np.array([3,2,5,1,4])\n",
    "\n",
    "print(np.sort(a))\n",
    "\n",
    "print(a.sort())\n",
    "\n",
    "print(np.argsort(a))\n",
    "\n",
    "np.linspace(0,10,10)\n",
    "np.linspace(0,1,20)\n",
    "\n",
    "data = np.random.randint(-10,0,(4,2))\n",
    "data\n",
    "\n",
    "print(np.abs(data))\n",
    "\n",
    "print(np.sqrt(np.abs(data)))\n",
    "\n",
    "print(np.add(data,data))"
   ]
  },
  {
   "cell_type": "code",
   "execution_count": null,
   "id": "f1e4f317-e11c-4095-b462-0d2ee9576dee",
   "metadata": {},
   "outputs": [],
   "source": []
  }
 ],
 "metadata": {
  "kernelspec": {
   "display_name": "Python 3 (ipykernel)",
   "language": "python",
   "name": "python3"
  },
  "language_info": {
   "codemirror_mode": {
    "name": "ipython",
    "version": 3
   },
   "file_extension": ".py",
   "mimetype": "text/x-python",
   "name": "python",
   "nbconvert_exporter": "python",
   "pygments_lexer": "ipython3",
   "version": "3.12.2"
  }
 },
 "nbformat": 4,
 "nbformat_minor": 5
}
