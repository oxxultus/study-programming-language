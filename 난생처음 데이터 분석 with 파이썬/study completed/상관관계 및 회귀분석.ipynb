{
 "cells": [
  {
   "cell_type": "code",
   "execution_count": 1,
   "id": "e4134e49-7740-464f-8f26-796a2fcee9c0",
   "metadata": {},
   "outputs": [],
   "source": [
    "import matplotlib.pyplot as plt\n",
    "import matplotlib.font_manager as font_manager\n",
    "import platform\n",
    "from matplotlib import rc\n",
    "\n",
    "# '-' 부호가 제대로 표시되게 하는 설정\n",
    "plt.rcParams['axes.unicode_minus'] = False\n",
    "\n",
    "# 운영 체제마다 한글이 보이게 하는 설정\n",
    "if platform.system() == 'Windows':\n",
    "    path = \"c:\\\\Windows\\\\Fonts\\\\malgun.ttf\"\n",
    "    font_name = font_manager.FontProperties(fname=path).get_name() \n",
    "    rc('font', family=font_name) \n",
    "elif platform.system() == 'Darwin':  # 맥\n",
    "    rc('font', family='AppleGothic')\n",
    "elif platform.system() == 'Linux':  # 리눅스\n",
    "    rc('font', family='NanumBarunGothic')\n",
    "\n",
    "# 매직 명령어로 인라인 플로팅 설정\n",
    "%matplotlib inline"
   ]
  },
  {
   "cell_type": "markdown",
   "id": "a0c15dff-b17b-49ae-99ce-9d4f42a940c0",
   "metadata": {},
   "source": [
    "### ★ 상관관계와 상관계수 \n",
    ".corr() : \n",
    "상관관계는 두 변수 간의 관계를 파악하는데 사용되는 중요한 개념입니다. 상관관계는 두 변수 간의 선형적인 관계의 강도를 측정하는 지표로, -1부터 1까지의 값을 가집니다.\n",
    "\n",
    "- 상관계수가 1에 가까울수록 두 변수 간에 강한 양의 선형 관계가 있음을 나타냅니다.\n",
    "- 상관계수가 -1에 가까울수록 두 변수 간에 강한 음의 선형 관계가 있음을 나타냅니다.\n",
    "- 상관계수가 0에 가까울수록 두 변수 간에 선형 관계가 거의 없거나 약한 관계가 있음을 나타냅니다.\n",
    "\n",
    "따라서, 상관계수를 통해 두 변수 간의 관계를 이해하고 예측하는데 유용한 정보를 얻을  있습니다.\n"
   ]
  },
  {
   "cell_type": "markdown",
   "id": "59ee817e-d467-47c9-aeb3-8ec54fd2c8cf",
   "metadata": {},
   "source": [
    "---\n",
    "### 사용할 상관분석 데이터\n",
    "---"
   ]
  },
  {
   "cell_type": "code",
   "execution_count": 2,
   "id": "6fa86925-41f3-4d41-9687-f46a51e81a26",
   "metadata": {},
   "outputs": [],
   "source": [
    "import matplotlib.pyplot as plt\n",
    "import pandas as pd\n",
    "\n",
    "engListening = [30, 60, 90, 31, 32, 69, 92, 99]\n",
    "engReading = [40, 45, 60, 20, 15, 70, 60, 80]\n",
    "engClass = [60, 120, 120, 60, 60, 180, 120, 120]\n",
    "engScore = [70, 80, 90, 70, 71, 85, 90, 92]\n",
    "\n",
    "df = pd.DataFrame({'영어듣기': engListening,'영어책읽기':engReading,'영어학원':engClass, '영어점수': engScore})"
   ]
  },
  {
   "cell_type": "markdown",
   "id": "3cbf8cb6-52b9-4225-a561-953d767675bb",
   "metadata": {},
   "source": [
    "- 피어쓴 상관분석\n",
    "---\n",
    "#### 분석결과\n",
    "1. ***영어듣기***와 ***영어점수***간의 상관계수가 0.995829로 가장 큰 선형 연관성을 보였다.\n",
    "2. ***영어듣기***와 ***영어학원***간의 상관계수가 0.703028로 가장 작은 선형 상관성을 보였습니다.\n",
    "3. ***영어책읽기***와 가장 큰 선형 상관성을 보이는 변수는 ***영어듣기*** 입니다.\n",
    "4. ***영어책읽기***와 가장 작은 선형 상관성을 보이는 변수는 ***영어학원*** 입니다"
   ]
  },
  {
   "cell_type": "code",
   "execution_count": 3,
   "id": "395dc202-e443-40a9-bddf-27d5c842bc58",
   "metadata": {},
   "outputs": [
    {
     "data": {
      "text/html": [
       "<div>\n",
       "<style scoped>\n",
       "    .dataframe tbody tr th:only-of-type {\n",
       "        vertical-align: middle;\n",
       "    }\n",
       "\n",
       "    .dataframe tbody tr th {\n",
       "        vertical-align: top;\n",
       "    }\n",
       "\n",
       "    .dataframe thead th {\n",
       "        text-align: right;\n",
       "    }\n",
       "</style>\n",
       "<table border=\"1\" class=\"dataframe\">\n",
       "  <thead>\n",
       "    <tr style=\"text-align: right;\">\n",
       "      <th></th>\n",
       "      <th>영어듣기</th>\n",
       "      <th>영어책읽기</th>\n",
       "      <th>영어학원</th>\n",
       "      <th>영어점수</th>\n",
       "    </tr>\n",
       "  </thead>\n",
       "  <tbody>\n",
       "    <tr>\n",
       "      <th>영어듣기</th>\n",
       "      <td>1.000000</td>\n",
       "      <td>0.877201</td>\n",
       "      <td>0.703028</td>\n",
       "      <td>0.995829</td>\n",
       "    </tr>\n",
       "    <tr>\n",
       "      <th>영어책읽기</th>\n",
       "      <td>0.877201</td>\n",
       "      <td>1.000000</td>\n",
       "      <td>0.808755</td>\n",
       "      <td>0.894111</td>\n",
       "    </tr>\n",
       "    <tr>\n",
       "      <th>영어학원</th>\n",
       "      <td>0.703028</td>\n",
       "      <td>0.808755</td>\n",
       "      <td>1.000000</td>\n",
       "      <td>0.759453</td>\n",
       "    </tr>\n",
       "    <tr>\n",
       "      <th>영어점수</th>\n",
       "      <td>0.995829</td>\n",
       "      <td>0.894111</td>\n",
       "      <td>0.759453</td>\n",
       "      <td>1.000000</td>\n",
       "    </tr>\n",
       "  </tbody>\n",
       "</table>\n",
       "</div>"
      ],
      "text/plain": [
       "           영어듣기     영어책읽기      영어학원      영어점수\n",
       "영어듣기   1.000000  0.877201  0.703028  0.995829\n",
       "영어책읽기  0.877201  1.000000  0.808755  0.894111\n",
       "영어학원   0.703028  0.808755  1.000000  0.759453\n",
       "영어점수   0.995829  0.894111  0.759453  1.000000"
      ]
     },
     "execution_count": 3,
     "metadata": {},
     "output_type": "execute_result"
    }
   ],
   "source": [
    "df.corr(method='pearson')"
   ]
  },
  {
   "cell_type": "markdown",
   "id": "43ed8d20-872e-440e-af35-6f7d85c00c7f",
   "metadata": {},
   "source": [
    "- 스피어만 상관분석\n",
    "---\n",
    "1. ***영어듣기***와 ***영어점수***간의 상관계수가 0.988024로 가장 큰 선형 연관성을 보였다.\n",
    "2. ***영어듣기***와 ***영어학원***간의 상관계수가 0.717256로 가장 작은 선형 상관성을 보였습니다.\n",
    "3. ***영어책읽기***와 가장 큰 선형 상관성을 보이는 변수는 ***영어학원*** 입니다.\n",
    "4. ***영어책읽기***와 가장 작은 선형 상관성을 보이는 변수는 ***영어듣기*** 입니다"
   ]
  },
  {
   "cell_type": "code",
   "execution_count": 4,
   "id": "cb43dd7f-4d95-40a9-be7e-411533eda860",
   "metadata": {},
   "outputs": [
    {
     "data": {
      "text/html": [
       "<div>\n",
       "<style scoped>\n",
       "    .dataframe tbody tr th:only-of-type {\n",
       "        vertical-align: middle;\n",
       "    }\n",
       "\n",
       "    .dataframe tbody tr th {\n",
       "        vertical-align: top;\n",
       "    }\n",
       "\n",
       "    .dataframe thead th {\n",
       "        text-align: right;\n",
       "    }\n",
       "</style>\n",
       "<table border=\"1\" class=\"dataframe\">\n",
       "  <thead>\n",
       "    <tr style=\"text-align: right;\">\n",
       "      <th></th>\n",
       "      <th>영어듣기</th>\n",
       "      <th>영어책읽기</th>\n",
       "      <th>영어학원</th>\n",
       "      <th>영어점수</th>\n",
       "    </tr>\n",
       "  </thead>\n",
       "  <tbody>\n",
       "    <tr>\n",
       "      <th>영어듣기</th>\n",
       "      <td>1.000000</td>\n",
       "      <td>0.826362</td>\n",
       "      <td>0.717256</td>\n",
       "      <td>0.988024</td>\n",
       "    </tr>\n",
       "    <tr>\n",
       "      <th>영어책읽기</th>\n",
       "      <td>0.826362</td>\n",
       "      <td>1.000000</td>\n",
       "      <td>0.852757</td>\n",
       "      <td>0.848500</td>\n",
       "    </tr>\n",
       "    <tr>\n",
       "      <th>영어학원</th>\n",
       "      <td>0.717256</td>\n",
       "      <td>0.852757</td>\n",
       "      <td>1.000000</td>\n",
       "      <td>0.725950</td>\n",
       "    </tr>\n",
       "    <tr>\n",
       "      <th>영어점수</th>\n",
       "      <td>0.988024</td>\n",
       "      <td>0.848500</td>\n",
       "      <td>0.725950</td>\n",
       "      <td>1.000000</td>\n",
       "    </tr>\n",
       "  </tbody>\n",
       "</table>\n",
       "</div>"
      ],
      "text/plain": [
       "           영어듣기     영어책읽기      영어학원      영어점수\n",
       "영어듣기   1.000000  0.826362  0.717256  0.988024\n",
       "영어책읽기  0.826362  1.000000  0.852757  0.848500\n",
       "영어학원   0.717256  0.852757  1.000000  0.725950\n",
       "영어점수   0.988024  0.848500  0.725950  1.000000"
      ]
     },
     "execution_count": 4,
     "metadata": {},
     "output_type": "execute_result"
    }
   ],
   "source": [
    "df.corr(method='spearman')"
   ]
  },
  {
   "cell_type": "markdown",
   "id": "a57fa6c9-c7df-4531-a049-8a11ae246b34",
   "metadata": {},
   "source": [
    "- 켄달 상관분석\n",
    "---\n",
    "1. ***영어듣기***와 ***영어점수***간의 상관계수가 0.963624로 가장 큰 선형 연관성을 보였다.\n",
    "2. ***영어듣기***와 ***영어학원***간의 상관계수가 0.563621로 가장 작은 선형 상관성을 보였습니다.\n",
    "3. ***영어책읽기***와 가장 큰 선형 상관성을 보이는 변수는 ***영어학원*** 입니다.\n",
    "4. ***영어책읽기***와 가장 작은 선형 상관성을 보이는 변수는 ***영어듣기*** 입니다"
   ]
  },
  {
   "cell_type": "code",
   "execution_count": 5,
   "id": "49446e2a-6132-4c8b-90ab-9f0405a78d64",
   "metadata": {},
   "outputs": [
    {
     "data": {
      "text/html": [
       "<div>\n",
       "<style scoped>\n",
       "    .dataframe tbody tr th:only-of-type {\n",
       "        vertical-align: middle;\n",
       "    }\n",
       "\n",
       "    .dataframe tbody tr th {\n",
       "        vertical-align: top;\n",
       "    }\n",
       "\n",
       "    .dataframe thead th {\n",
       "        text-align: right;\n",
       "    }\n",
       "</style>\n",
       "<table border=\"1\" class=\"dataframe\">\n",
       "  <thead>\n",
       "    <tr style=\"text-align: right;\">\n",
       "      <th></th>\n",
       "      <th>영어듣기</th>\n",
       "      <th>영어책읽기</th>\n",
       "      <th>영어학원</th>\n",
       "      <th>영어점수</th>\n",
       "    </tr>\n",
       "  </thead>\n",
       "  <tbody>\n",
       "    <tr>\n",
       "      <th>영어듣기</th>\n",
       "      <td>1.000000</td>\n",
       "      <td>0.618284</td>\n",
       "      <td>0.563621</td>\n",
       "      <td>0.963624</td>\n",
       "    </tr>\n",
       "    <tr>\n",
       "      <th>영어책읽기</th>\n",
       "      <td>0.618284</td>\n",
       "      <td>1.000000</td>\n",
       "      <td>0.750568</td>\n",
       "      <td>0.679366</td>\n",
       "    </tr>\n",
       "    <tr>\n",
       "      <th>영어학원</th>\n",
       "      <td>0.563621</td>\n",
       "      <td>0.750568</td>\n",
       "      <td>1.000000</td>\n",
       "      <td>0.584898</td>\n",
       "    </tr>\n",
       "    <tr>\n",
       "      <th>영어점수</th>\n",
       "      <td>0.963624</td>\n",
       "      <td>0.679366</td>\n",
       "      <td>0.584898</td>\n",
       "      <td>1.000000</td>\n",
       "    </tr>\n",
       "  </tbody>\n",
       "</table>\n",
       "</div>"
      ],
      "text/plain": [
       "           영어듣기     영어책읽기      영어학원      영어점수\n",
       "영어듣기   1.000000  0.618284  0.563621  0.963624\n",
       "영어책읽기  0.618284  1.000000  0.750568  0.679366\n",
       "영어학원   0.563621  0.750568  1.000000  0.584898\n",
       "영어점수   0.963624  0.679366  0.584898  1.000000"
      ]
     },
     "execution_count": 5,
     "metadata": {},
     "output_type": "execute_result"
    }
   ],
   "source": [
    "df.corr(method='kendall')"
   ]
  },
  {
   "cell_type": "markdown",
   "id": "e365506c-4325-4d3a-bec3-9de752d7799b",
   "metadata": {},
   "source": [
    "---\n",
    "###  상관분석 결과\n",
    "1. 영어 듣기를 많이 할수록 영어 점수가 높다.\n",
    "2. 영어 책을 많이 읽을 수록 영어 점수가 높다.\n",
    "\n",
    "- 아래 두가지 경우가 해당 데이터를 분석하는데 적절하지 않는 이유\n",
    "- 피어슨 : 데이터의 수가 적어 정규분포의 따르지 않음\n",
    "- 켄달 : 점수들이 등급형태가 아니기에 "
   ]
  },
  {
   "cell_type": "code",
   "execution_count": 6,
   "id": "89c14fbd-234c-483d-aa12-0472304febff",
   "metadata": {},
   "outputs": [
    {
     "name": "stdout",
     "output_type": "stream",
     "text": [
      "                            OLS Regression Results                            \n",
      "==============================================================================\n",
      "Dep. Variable:                      y   R-squared:                       0.971\n",
      "Model:                            OLS   Adj. R-squared:                  0.968\n",
      "Method:                 Least Squares   F-statistic:                     271.0\n",
      "Date:                Thu, 23 May 2024   Prob (F-statistic):           1.87e-07\n",
      "Time:                        23:54:41   Log-Likelihood:                -20.111\n",
      "No. Observations:                  10   AIC:                             44.22\n",
      "Df Residuals:                       8   BIC:                             44.83\n",
      "Df Model:                           1                                         \n",
      "Covariance Type:            nonrobust                                         \n",
      "==============================================================================\n",
      "                 coef    std err          t      P>|t|      [0.025      0.975]\n",
      "------------------------------------------------------------------------------\n",
      "Intercept     29.0004      2.926      9.913      0.000      22.254      35.747\n",
      "x              0.0107      0.001     16.463      0.000       0.009       0.012\n",
      "==============================================================================\n",
      "Omnibus:                        0.346   Durbin-Watson:                   2.871\n",
      "Prob(Omnibus):                  0.841   Jarque-Bera (JB):                0.447\n",
      "Skew:                           0.286   Prob(JB):                        0.800\n",
      "Kurtosis:                       2.136   Cond. No.                     2.07e+04\n",
      "==============================================================================\n",
      "\n",
      "Notes:\n",
      "[1] Standard Errors assume that the covariance matrix of the errors is correctly specified.\n",
      "[2] The condition number is large, 2.07e+04. This might indicate that there are\n",
      "strong multicollinearity or other numerical problems.\n"
     ]
    }
   ],
   "source": [
    "import pandas as pd\n",
    "import matplotlib.pyplot as plt\n",
    "from statsmodels.formula.api import ols\n",
    "import warnings\n",
    "\n",
    "# 경고 억제\n",
    "warnings.filterwarnings(\"ignore\")\n",
    "\n",
    "# 임의 작성 데이터\n",
    "x = [3000, 4200, 4000, 5000, 6000, 3800, 3500, 6200, 3900, 4500]\n",
    "y = [60, 75, 70, 85, 90, 70, 65, 95, 70, 80]\n",
    "\n",
    "# 데이터프레임 생성\n",
    "df = pd.DataFrame({'x': x, 'y': y})\n",
    "\n",
    "# OLS 회귀 분석 수행\n",
    "fit = ols('y ~ x', data=df).fit()\n",
    "\n",
    "# 회귀 분석 결과 출력\n",
    "print(fit.summary())"
   ]
  },
  {
   "cell_type": "code",
   "execution_count": 7,
   "id": "fe10b018-d2e3-4478-b90d-a6162cb4198e",
   "metadata": {},
   "outputs": [
    {
     "data": {
      "image/png": "[encoded data removed]",
      "text/plain": [
       "<Figure size 400x300 with 1 Axes>"
      ]
     },
     "metadata": {},
     "output_type": "display_data"
    }
   ],
   "source": [
    "# 산포와 회귀분석의 모형\n",
    "plt.figure(figsize=(4, 3))\n",
    "plt.scatter(df['x'], df['y'], label='산점 데이터')\n",
    "plt.plot(df['x'], fit.fittedvalues, color='red', label='회기분석의 모형')\n",
    "plt.xlabel('X축 라벨')  # X축 라벨 추가\n",
    "plt.ylabel('Y축 라벨')  # Y축 라벨 추가\n",
    "plt.title('산포도 및 OLS 회귀선')  # 제목 추가\n",
    "plt.legend()\n",
    "plt.show()"
   ]
  },
  {
   "cell_type": "code",
   "execution_count": 1,
   "id": "dc6190f8-e53b-4663-a77d-a6fde67b0e2b",
   "metadata": {},
   "outputs": [
    {
     "name": "stdout",
     "output_type": "stream",
     "text": [
      "Optimization terminated successfully.\n",
      "         Current function value: 0.430873\n",
      "         Iterations 7\n",
      "                           Logit Regression Results                           \n",
      "==============================================================================\n",
      "Dep. Variable:                  sales   No. Observations:                   17\n",
      "Model:                          Logit   Df Residuals:                       15\n",
      "Method:                           MLE   Df Model:                            1\n",
      "Date:                Fri, 24 May 2024   Pseudo R-squ.:                  0.3768\n",
      "Time:                        10:25:08   Log-Likelihood:                -7.3248\n",
      "converged:                       True   LL-Null:                       -11.754\n",
      "Covariance Type:            nonrobust   LLR p-value:                  0.002917\n",
      "==============================================================================\n",
      "                 coef    std err          z      P>|z|      [0.025      0.975]\n",
      "------------------------------------------------------------------------------\n",
      "Intercept      6.5752      3.300      1.993      0.046       0.108      13.042\n",
      "price         -0.0016      0.001     -2.008      0.045      -0.003   -3.75e-05\n",
      "==============================================================================\n",
      "OR\n",
      "Intercept    717.058841\n",
      "price          0.998433\n",
      "dtype: float64\n"
     ]
    }
   ],
   "source": [
    "import statsmodels.api as sm \n",
    "import pandas as pd \n",
    "import numpy as np\n",
    "\n",
    "sales = [1, 1, 1, 1, 1, 1, 1, 1, 1, 0, 0, 0, 0, 0, 0, 0, 0]\n",
    "price = [1500, 2000, 5000, 3000, 3500, 2500, 4000, 4500, 3000, 4500, 4000, 4500, 5500, 6500, 5000, 3500, 7000]\n",
    "data = {'sales': sales, 'price': price}\n",
    "df = pd.DataFrame(data)\n",
    "logis = sm.Logit.from_formula('sales ~ price', data=df).fit()\n",
    "print(logis.summary())\n",
    "print('OR')\n",
    "print(np.exp(logis.params))"
   ]
  },
  {
   "cell_type": "code",
   "execution_count": 3,
   "id": "b638c9b9-c0ec-47e2-a888-57255f460a7a",
   "metadata": {},
   "outputs": [
    {
     "data": {
      "image/png": "[encoded data removed]",
      "text/plain": [
       "<Figure size 800x600 with 1 Axes>"
      ]
     },
     "metadata": {},
     "output_type": "display_data"
    }
   ],
   "source": [
    "import numpy as np\n",
    "import matplotlib.pyplot as plt\n",
    "\n",
    "# 주어진 데이터\n",
    "pass_time = [1, 2, 3, 4, 5, 1, 14, 15, 16, 17, 18, 19, 20, 21, 22, 23, 24, 25, 26, 27]\n",
    "fail_time = [1, 2, 3, 4, 5, 1, 10, 11, 12, 13, 14, 15]\n",
    "\n",
    "# X와 y 배열 생성\n",
    "X = np.hstack((pass_time, fail_time))\n",
    "y1 = [1] * len(pass_time)\n",
    "y0 = [0] * len(fail_time)\n",
    "y = np.hstack((y1, y0))\n",
    "\n",
    "# 그래프 생성\n",
    "fig = plt.figure(figsize=(8, 6))\n",
    "plt.xlim(0, 28)  # x축 범위를 0에서 28로 설정\n",
    "plt.ylim(-0.1, 1.1)  # y축 범위를 -0.1에서 1.1로 설정\n",
    "plt.xlabel('Study Time')\n",
    "plt.ylabel('Pass Rate')\n",
    "plt.scatter(X, y)\n",
    "plt.show()"
   ]
  },
  {
   "cell_type": "code",
   "execution_count": 10,
   "id": "6a4d4718-0f46-4dc8-a328-4dd5664c3d69",
   "metadata": {},
   "outputs": [
    {
     "name": "stdout",
     "output_type": "stream",
     "text": [
      "Model Coefficients: [[0.5706462]]\n",
      "Model Intercept: [-5.70378762]\n",
      "Prediction for 7.0 hours: [0]\n",
      "Prediction probability for 13 hours: [[0.15256635 0.84743365]]\n"
     ]
    },
    {
     "data": {
      "image/png": "[encoded data removed]",
      "text/plain": [
       "<Figure size 800x600 with 1 Axes>"
      ]
     },
     "metadata": {},
     "output_type": "display_data"
    }
   ],
   "source": [
    "import numpy as np\n",
    "import matplotlib.pyplot as plt\n",
    "from sklearn.linear_model import LogisticRegression\n",
    "\n",
    "# 수정된 데이터\n",
    "pass_time = [8, 9, 10, 11, 12, 13, 14, 15, 16, 17, 18, 19, 20, 21, 22, 23, 24, 25, 26, 27]\n",
    "fail_time = [1, 2, 3, 4, 5, 6, 7, 8, 9, 10, 11, 12]\n",
    "\n",
    "# x와 y 배열 생성\n",
    "x = np.hstack((pass_time, fail_time))\n",
    "y1 = [1] * len(pass_time)\n",
    "y0 = [0] * len(fail_time)\n",
    "y = np.hstack((y1, y0))\n",
    "\n",
    "# 로지스틱 회귀 모델 생성 및 학습\n",
    "model = LogisticRegression()\n",
    "model.fit(x.reshape(-1, 1), y)\n",
    "\n",
    "# 모델 계수 출력\n",
    "print(\"Model Coefficients:\", model.coef_)\n",
    "print(\"Model Intercept:\", model.intercept_)\n",
    "\n",
    "# 모델 예측\n",
    "sample = np.array([7.0])\n",
    "print(\"Prediction for 7.0 hours:\", model.predict(sample.reshape(-1, 1)))\n",
    "\n",
    "sample = np.array([13])\n",
    "print(\"Prediction probability for 13 hours:\", model.predict_proba(sample.reshape(-1, 1)))\n",
    "\n",
    "# 시그모이드 함수 정의\n",
    "def logreg(z):\n",
    "    return 1 / (1 + np.exp(-z))\n",
    "\n",
    "# 시각화\n",
    "fig = plt.figure(figsize=(8, 6))\n",
    "plt.xlim(0, 28)  # x축 범위를 0에서 28로 설정\n",
    "plt.ylim(-0.1, 1.1)  # y축 범위를 -0.1에서 1.1로 설정\n",
    "plt.xlabel('Study Time')\n",
    "plt.ylabel('Pass Rate')\n",
    "plt.scatter(x, y, s=50)\n",
    "\n",
    "# 로지스틱 회귀 곡선\n",
    "XX = np.linspace(0.5, 27, 100)\n",
    "yy = logreg(model.coef_[0] * XX + model.intercept_)\n",
    "plt.plot(XX, yy, c='r')\n",
    "\n",
    "plt.show()"
   ]
  },
  {
   "cell_type": "code",
   "execution_count": null,
   "id": "8fcc1651-6559-401d-96fa-212e96f372c1",
   "metadata": {},
   "outputs": [],
   "source": []
  }
 ],
 "metadata": {
  "kernelspec": {
   "display_name": "Python 3 (ipykernel)",
   "language": "python",
   "name": "python3"
  },
  "language_info": {
   "codemirror_mode": {
    "name": "ipython",
    "version": 3
   },
   "file_extension": ".py",
   "mimetype": "text/x-python",
   "name": "python",
   "nbconvert_exporter": "python",
   "pygments_lexer": "ipython3",
   "version": "3.11.7"
  }
 },
 "nbformat": 4,
 "nbformat_minor": 5
}
