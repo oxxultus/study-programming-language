{
 "cells": [
  {
   "cell_type": "markdown",
   "metadata": {},
   "source": [
    "### 느낀점\n",
    "코드로 csv 파일을 작성 하는 방법에 대해 알게되었으며 결측값을 처리하는것이 데이터를 분석하고 처리하는과정에서 중요하다고 생각하게 되었습니다."
   ]
  },
  {
   "cell_type": "markdown",
   "metadata": {
    "id": "I-QQBeJhxOEy"
   },
   "source": [
    "### **1. CSV 파일 이해하기**"
   ]
  },
  {
   "cell_type": "markdown",
   "metadata": {
    "id": "rbEEskEZygb-"
   },
   "source": [
    "### **2. 파이썬으로 CSV 파일 다루기**"
   ]
  },
  {
   "cell_type": "code",
   "execution_count": null,
   "metadata": {},
   "outputs": [],
   "source": [
    "import csv"
   ]
  },
  {
   "cell_type": "markdown",
   "metadata": {
    "id": "gTuW_OXW18h0"
   },
   "source": [
    "from google.colab import files\n",
    "f = files.upload()"
   ]
  },
  {
   "cell_type": "code",
   "execution_count": null,
   "metadata": {
    "id": "hBo2V0Ee2n3T"
   },
   "outputs": [],
   "source": [
    "# CSV 파일 열기\n",
    "f = open('reference files/csv/characters.csv', 'r', encoding='cp949')\n",
    "\n",
    "# csv.reader를 사용하여 파일 읽기\n",
    "rdr = csv.reader(f)\n",
    "\n",
    "# 한 줄씩 읽어서 출력\n",
    "for line in rdr:\n",
    "    print(line)\n",
    "    \n",
    "# 파일 닫기\n",
    "f.close()"
   ]
  },
  {
   "cell_type": "code",
   "execution_count": null,
   "metadata": {
    "id": "4SzfKHM6UAcw"
   },
   "outputs": [],
   "source": [
    "# CSV 파일 열기\n",
    "f = open('reference files/csv/characters.csv', 'r', encoding='cp949')\n",
    "\n",
    "# csv.reader를 사용하여 파일 읽기\n",
    "rdr = csv.reader(f)\n",
    "\n",
    "# 한 줄씩 읽어서 두 번째 열만 출력\n",
    "for line in rdr:\n",
    "    print(line[1])\n",
    "    \n",
    "# 파일 닫기\n",
    "f.close()"
   ]
  },
  {
   "cell_type": "code",
   "execution_count": null,
   "metadata": {
    "executionInfo": {
     "elapsed": 3,
     "status": "ok",
     "timestamp": 1689571363767,
     "user": {
      "displayName": "안비단",
      "userId": "14578315619824770276"
     },
     "user_tz": -540
    },
    "id": "hDGwIj3wSZIw"
   },
   "outputs": [],
   "source": [
    "# CSV 파일을 쓰기 모드로 열기\n",
    "# 'newline' 매개변수는 빈 줄을 자동으로 삽입하지 않도록 합니다.\n",
    "f = open('reference files/csv/write.csv', 'w', encoding='cp949', newline='')\n",
    "\n",
    "# csv.writer 객체 생성\n",
    "wr = csv.writer(f)\n",
    "\n",
    "# 각 행에 데이터 작성\n",
    "# 첫 번째 행은 열의 이름\n",
    "wr.writerow(['ID', '이름', '상징색', '취미', '특징'])\n",
    "\n",
    "# 나머지 행은 실제 데이터\n",
    "wr.writerow(['001', '뽀로로', '파랑색', '낚시', '펭귄'])\n",
    "wr.writerow(['002', '에디', '주황색', '과학실험', '사막여우'])\n",
    "wr.writerow(['003', '크롱', '초록색', '눈싸움', '공룡'])\n",
    "wr.writerow(['004', '루피', '분홍색', '요리', '비버'])\n",
    "wr.writerow(['005', '패티', '보라색', '운동', '펭귄'])\n",
    "\n",
    "# 파일 닫기\n",
    "f.close()"
   ]
  },
  {
   "cell_type": "code",
   "execution_count": null,
   "metadata": {
    "executionInfo": {
     "elapsed": 274,
     "status": "ok",
     "timestamp": 1689571376630,
     "user": {
      "displayName": "안비단",
      "userId": "14578315619824770276"
     },
     "user_tz": -540
    },
    "id": "Iylcsu_-b0Ca"
   },
   "outputs": [],
   "source": [
    "# CSV 파일을 추가 모드로 열기\n",
    "# 'newline' 매개변수는 빈 줄을 자동으로 삽입하지 않도록 합니다.\n",
    "f = open('reference files/csv/write.csv', 'a', encoding='cp949', newline='')\n",
    "\n",
    "# csv.writer 객체 생성\n",
    "wr = csv.writer(f)\n",
    "\n",
    "# 추가할 데이터를 행에 작성\n",
    "wr.writerow(['006', '포비', '흰색', '춤', '북극곰'])\n",
    "\n",
    "# 파일 닫기\n",
    "f.close()"
   ]
  },
  {
   "cell_type": "markdown",
   "metadata": {},
   "source": [
    "### **LAb 문제** ###"
   ]
  },
  {
   "cell_type": "code",
   "execution_count": null,
   "metadata": {},
   "outputs": [],
   "source": [
    "# CSV 파일을 쓰기 모드로 열기\n",
    "# 'newline' 매개변수는 빈 줄을 자동으로 삽입하지 않도록 합니다.\n",
    "f = open('reference files/csv/weather.csv', 'w', newline='')\n",
    "# csv.writer 객체 생성\n",
    "wr = csv.writer(f)\n",
    "\n",
    "# 헤더 행 작성\n",
    "wr.writerow(['날짜', '요일', '날씨', '최저기온', '최고기온', '강수량'])\n",
    "\n",
    "# 날씨 정보를 행에 작성\n",
    "wr.writerow(['20230101', '월', '맑음', -4.3, 3.8, 0])\n",
    "wr.writerow(['20230102', '화', '맑음', -7.4, 0.4, 0])\n",
    "wr.writerow(['20230103', '수', '맑음', -9.0, 0.6, 0])\n",
    "\n",
    "# 파일 닫기\n",
    "f.close()"
   ]
  },
  {
   "cell_type": "markdown",
   "metadata": {},
   "source": [
    "### **2. 파이썬으로 엑셀 파일 읽기**"
   ]
  },
  {
   "cell_type": "markdown",
   "metadata": {},
   "source": [
    "from google.colab import files\n",
    "f = files.upload()"
   ]
  },
  {
   "cell_type": "code",
   "execution_count": null,
   "metadata": {},
   "outputs": [],
   "source": [
    "# openpyxl은 엑셀 파일을 다루는 파이썬 라이브러리 중 하나\n",
    "#실행해서 다운하기 처음 1회 \n",
    "!pip install openpyxl "
   ]
  },
  {
   "cell_type": "code",
   "execution_count": null,
   "metadata": {},
   "outputs": [],
   "source": [
    "import openpyxl\n",
    "\n",
    "# Excel 파일을 열고 workbook 객체 생성\n",
    "wb = openpyxl.load_workbook('reference files/xlsx/characters.xlsx')"
   ]
  },
  {
   "cell_type": "code",
   "execution_count": null,
   "metadata": {},
   "outputs": [],
   "source": [
    "# 워크북에 포함된 시트의 이름을 출력\n",
    "print(wb.sheetnames)"
   ]
  },
  {
   "cell_type": "code",
   "execution_count": null,
   "metadata": {},
   "outputs": [],
   "source": [
    "# 'Sheet1' 시트를 선택하여 해당 시트의 A1 셀의 값을 출력\n",
    "sheet1 = wb['Sheet1']  # 'Sheet1' 시트 선택\n",
    "print(sheet1['A1'].value)  # A1 셀의 값 출력"
   ]
  },
  {
   "cell_type": "markdown",
   "metadata": {},
   "source": [
    "### **3. 파이썬으로 엑셀 파일 작성하기**"
   ]
  },
  {
   "cell_type": "code",
   "execution_count": null,
   "metadata": {},
   "outputs": [],
   "source": [
    "# 새로운 Excel 워크북을 생성합니다.\n",
    "wb = openpyxl.Workbook()"
   ]
  },
  {
   "cell_type": "code",
   "execution_count": null,
   "metadata": {},
   "outputs": [],
   "source": [
    "# Excel 워크북에 'Sheet2'라는 이름의 새 시트를 추가합니다.\n",
    "wb.create_sheet('Sheet2')\n",
    "\n",
    "# 변경된 시트 목록을 출력합니다.\n",
    "print(wb.sheetnames)"
   ]
  },
  {
   "cell_type": "code",
   "execution_count": null,
   "metadata": {},
   "outputs": [],
   "source": [
    "# 시트 이름을 할당하고 출력합니다\n",
    "sheet1 = wb['Sheet']  # Sheet1을 '캐릭터 명단'으로 변경합니다\n",
    "sheet2 = wb['Sheet2']  # Sheet2를 '인기도 조사'로 변경합니다\n",
    "\n",
    "sheet1.title = '캐릭터 명단'  # Sheet1의 이름을 '캐릭터 명단'으로 변경합니다\n",
    "sheet2.title = '인기도 조사'  # Sheet2의 이름을 '인기도 조사'로 변경합니다\n",
    "\n",
    "print(wb.sheetnames)  # 업데이트된 시트 이름을 출력합니다"
   ]
  },
  {
   "cell_type": "code",
   "execution_count": null,
   "metadata": {},
   "outputs": [],
   "source": [
    "sheet2['B1'] = '인기도 조사결과'  # Sheet2의 B1 셀에 '인기도 조사결과'를 할당합니다\n",
    "print(sheet2['B1'].value)  # B1 셀의 값을 출력합니다"
   ]
  },
  {
   "cell_type": "code",
   "execution_count": null,
   "metadata": {},
   "outputs": [],
   "source": [
    "copysheet = wb.copy_worksheet(sheet2)  # Sheet2를 복사하여 새 시트를 생성합니다\n",
    "print(wb.sheetnames)  # 업데이트된 시트 이름을 출력합니다"
   ]
  },
  {
   "cell_type": "code",
   "execution_count": null,
   "metadata": {},
   "outputs": [],
   "source": [
    "copysheet.title = 'copy'  # 복사된 시트의 이름을 'copy'로 변경합니다\n",
    "print(wb.sheetnames)  # 업데이트된 시트 이름을 출력합니다\n",
    "print(copysheet['B1'].value)  # 복사된 시트의 B1 셀의 값을 출력합니다"
   ]
  },
  {
   "cell_type": "code",
   "execution_count": null,
   "metadata": {},
   "outputs": [],
   "source": [
    "del wb['인기도 조사']  # '인기도 조사' 시트를 삭제합니다\n",
    "print(wb.sheetnames)  # 업데이트된 시트 이름을 출력합니다"
   ]
  },
  {
   "cell_type": "code",
   "execution_count": null,
   "metadata": {},
   "outputs": [],
   "source": [
    "wb.save('reference files/xlsx/complete2.xlsx')  # 변경 사항을 포함한 워크북을 새 파일에 저장합니다"
   ]
  },
  {
   "cell_type": "markdown",
   "metadata": {},
   "source": [
    "### **실전분석** ##"
   ]
  },
  {
   "cell_type": "markdown",
   "metadata": {},
   "source": [
    "f = files.upload()"
   ]
  },
  {
   "cell_type": "code",
   "execution_count": null,
   "metadata": {},
   "outputs": [],
   "source": [
    "wb = openpyxl.Workbook()  # 새 워크북을 생성합니다\n",
    "ws = wb.active  # 활성 시트에 대한 참조를 가져옵니다"
   ]
  },
  {
   "cell_type": "code",
   "execution_count": null,
   "metadata": {},
   "outputs": [],
   "source": [
    "with open('reference files/csv/data1.csv', encoding='cp949') as f:\n",
    "    reader = csv.reader(f)  # CSV 파일을 읽는 객체를 생성합니다\n",
    "    for row in reader:\n",
    "        ws.append(row)  # CSV 파일의 각 행을 워크시트에 추가합니다"
   ]
  },
  {
   "cell_type": "code",
   "execution_count": null,
   "metadata": {},
   "outputs": [],
   "source": [
    "ws2 = wb.create_sheet('Sheet2')  # 'Sheet2'라는 이름의 새 시트를 생성합니다\n",
    "\n",
    "with open('reference files/csv/data2.csv', encoding='cp949') as f:\n",
    "    reader = csv.reader(f)  # CSV 파일을 읽는 객체를 생성합니다\n",
    "    for row in reader:\n",
    "        ws2.append(row)  # CSV 파일의 각 행을 ws2 시트에 추가합니다"
   ]
  },
  {
   "cell_type": "code",
   "execution_count": null,
   "metadata": {},
   "outputs": [],
   "source": [
    "ws3 = wb.create_sheet('Sheet3')  # 'Sheet3'라는 이름의 새 시트를 생성합니다\n",
    "\n",
    "with open('reference files/csv/data3.csv', encoding='cp949') as f:\n",
    "    reader = csv.reader(f)  # CSV 파일을 읽는 객체를 생성합니다\n",
    "    for row in reader:\n",
    "        ws3.append(row)  # CSV 파일의 각 행을 ws3 시트에 추가합니다"
   ]
  },
  {
   "cell_type": "code",
   "execution_count": null,
   "metadata": {},
   "outputs": [],
   "source": [
    "ws.title = '11111'  # ws 시트의 이름을 '11111'로 변경합니다\n",
    "ws2.title = '2222'  # ws2 시트의 이름을 '2222'로 변경합니다\n",
    "ws3.title = '33333'  # ws3 시트의 이름을 '33333'로 변경합니다\n",
    "wb.save('reference files/xlsx/tr333333.xlsx')  # 변경 사항을 포함하여 워크북을 파일로 저장합니다"
   ]
  },
  {
   "cell_type": "code",
   "execution_count": null,
   "metadata": {},
   "outputs": [],
   "source": [
    "ws.title = '경기도 의정부시_의정부경전철 혼잡도'  # ws 시트의 이름을 '경기도 의정부시_의정부경전철 혼잡도'로 변경합니다\n",
    "ws2.title = '대전교통공사_열차 혼잡도 분석'  # ws2 시트의 이름을 '대전교통공사_열차 혼잡도 분석'로 변경합니다\n",
    "ws3.title = '서울특별시_지하철 혼잡도 정보'  # ws3 시트의 이름을 '서울특별시_지하철 혼잡도 정보'로 변경합니다\n",
    "wb.save('reference files/xlsx/tr2.xlsx')  # 변경 사항을 포함하여 워크북을 파일로 저장합니다"
   ]
  },
  {
   "cell_type": "markdown",
   "metadata": {},
   "source": [
    "## 데이터 전처리 - 결측값 처리(NaN)\r\n",
    "\r\n",
    "결측값(NaN)은 데이터셋에서 중요한 정보를 잃게 되는 요인으로, 분석 결과를 왜곡할 수 있습니다. 결측값을 식별하고 적절하게 처리하는 것은 데이터 전처리의 중요한 과정 중 하나입니다.\r\n",
    "\r\n",
    "### 결측값 처리 방법\r\n",
    "1. 결측값 제거:\r\n",
    "   - 결측값이 포함된 행 또는 열을 제거합니다. 이 방법은 데이터 손실을 초래할 수 있으므로 주의해서 사용해야 합니다.\r\n",
    "   \r\n",
    "2. 대체값 사용:\r\n",
    "   - 결측값을 다른 값으로 대체하여 채웁니다. 대체값은 평균, 중앙값, 최빈값 등으로 선택할 수 있으며, 데이터의 특성에 따라 적절한 방법을 선택해야 합니다.\r\n",
    "\r\n",
    "### 결측값 처리 단계\r\n",
    "1. 결측값 식별:\r\n",
    "   - 데이터셋을 탐색하여 결측값을 식별합니다. 주로 'NaN' 또는 'NA'로 표시됩니다.\r\n",
    "   \r\n",
    "2. 결측값 처리:\r\n",
    "   - 결측값을 제거하거나 대체값으로 채워넣습니다.\r\n",
    "   \r\n",
    "3. 데이터셋 재구성:\r\n",
    "   - 결측값을 처리한 후 데이터셋을 다시 구성하여 분석에 활용합니다.\r\n",
    "\r\n",
    "### 주의사항\r\n",
    "- 결측값 처리는 데이터 분석의 결과를 직접적으로 영향을 미치므로 신중하게 진행해야 합니다.\r\n",
    "- 결측값 처리 방법은 데이터의 특성과 분석목적에 따라 적절하게 선택되어야 합니다.\r\n"
   ]
  },
  {
   "cell_type": "code",
   "execution_count": null,
   "metadata": {},
   "outputs": [],
   "source": [
    "import os\n",
    "import numpy as np\n",
    "import pandas as pd\n",
    "import matplotlib.pyplot as plt\n",
    "import warnings\n",
    "from datetime import *\n",
    "warnings.filterwarnings('ignore')"
   ]
  },
  {
   "cell_type": "code",
   "execution_count": null,
   "metadata": {},
   "outputs": [],
   "source": [
    "df = pd.DataFrame({'A' : [1,2,np.nan,4,5],\n",
    "                   'B' : [6,7,8,np.nan,10],\n",
    "                   'C' : [11,12,13,np.nan,np.nan]})\n",
    "df"
   ]
  },
  {
   "cell_type": "code",
   "execution_count": null,
   "metadata": {},
   "outputs": [],
   "source": [
    "pd.isna(df)"
   ]
  },
  {
   "cell_type": "code",
   "execution_count": null,
   "metadata": {},
   "outputs": [],
   "source": [
    "pd.isna(df).sum() # nan의 합을 출력"
   ]
  },
  {
   "cell_type": "code",
   "execution_count": null,
   "metadata": {},
   "outputs": [],
   "source": [
    "df_drop_nan = df.dropna()\n",
    "df_drop_nan"
   ]
  },
  {
   "cell_type": "code",
   "execution_count": null,
   "metadata": {},
   "outputs": [],
   "source": [
    "df_drop_B_C = df.dropna(subset=['B','C'])\n",
    "df_drop_B_C"
   ]
  },
  {
   "cell_type": "code",
   "execution_count": null,
   "metadata": {},
   "outputs": [],
   "source": [
    "pd.isna(df)"
   ]
  },
  {
   "cell_type": "code",
   "execution_count": null,
   "metadata": {},
   "outputs": [],
   "source": [
    "df_0 = df['C'].fillna(0)\n",
    "print(df_0)"
   ]
  },
  {
   "cell_type": "code",
   "execution_count": null,
   "metadata": {},
   "outputs": [],
   "source": [
    "df_missing = df['A'].fillna('missing')\n",
    "df_missing"
   ]
  },
  {
   "cell_type": "code",
   "execution_count": null,
   "metadata": {},
   "outputs": [],
   "source": [
    "#df.fillna(df.mean(), inplace = True)\n",
    "df_mean = df.fillna(df.mean())\n",
    "print(df,'\\n')\n",
    "print(df_mean)\n",
    "print(df,'\\n')"
   ]
  },
  {
   "cell_type": "code",
   "execution_count": null,
   "metadata": {},
   "outputs": [],
   "source": [
    "df_fill = df.fillna(method = 'ffill') # NAN값을 전 값으로 채움\n",
    "print(df_fill,'\\n')"
   ]
  },
  {
   "cell_type": "code",
   "execution_count": null,
   "metadata": {},
   "outputs": [],
   "source": [
    "df_bfill = df.fillna(method = 'bfill') # NAN값을 다음값으로 채움\n",
    "print(df_bfill)"
   ]
  },
  {
   "cell_type": "code",
   "execution_count": null,
   "metadata": {},
   "outputs": [],
   "source": [
    "fill_dict = {'A':df['A'].mean(),'B':'12/25','C':'missing'} # NAN값을 A의 평균,12/25,MISSING으로 채움 \n",
    "df_filled= df.fillna(fill_dict)"
   ]
  },
  {
   "cell_type": "markdown",
   "metadata": {},
   "source": [
    "## 경로 파악 > 파일 목록 가져오기 > xlsx파일 분류 > 해당 파일 읽기 > 데이터처리"
   ]
  },
  {
   "cell_type": "code",
   "execution_count": null,
   "metadata": {},
   "outputs": [],
   "source": [
    "# 'reference files/xlsx/대전태평/' 경로를 변수 path에 저장\n",
    "path = 'reference files/xlsx/대전태평/'\n",
    "\n",
    "# 지정된 경로(path)에 있는 모든 파일과 디렉토리 목록을 가져와 file_list에 저장\n",
    "file_list = os.listdir(path)\n",
    "\n",
    "# 경로 내의 파일 및 디렉토리 목록을 출력\n",
    "file_list"
   ]
  },
  {
   "cell_type": "code",
   "execution_count": null,
   "metadata": {},
   "outputs": [],
   "source": [
    "# file_list에서 확장자가 '.xlsx'인 파일들만 선택하여 새로운 리스트 file_list_py에 저장\n",
    "file_list_py = [file for file in file_list if file.endswith('.xlsx')]\n",
    "\n",
    "# 선택된 엑셀 파일들로 이루어진 file_list_py 리스트를 출력\n",
    "file_list_py"
   ]
  },
  {
   "cell_type": "code",
   "execution_count": null,
   "metadata": {},
   "outputs": [],
   "source": [
    "# file_list에서 파일 이름이 '.xlsx'로 시작하는 파일들만 필터링하여 새로운 리스트 file_list_py에 저장\n",
    "#file_list_py = [file for file in file_list if file.startswith('.xlsx')]\n",
    "\n",
    "# 필터링된 파일들로 구성된 file_list_py 리스트를 출력\n",
    "#file_list_py"
   ]
  },
  {
   "cell_type": "code",
   "execution_count": null,
   "metadata": {},
   "outputs": [],
   "source": [
    "df = pd.DataFrame() # 공백 프레임 만듬\n",
    "for i in file_list_py: # \n",
    "    data = pd.read_excel(path + i) # 한개씩 데이터를 읽음\n",
    "    df = pd.concat([df,data]) # 빈공백에 한개씩 읽은 데이터 concat함 (이어붙힘)\n",
    "df"
   ]
  },
  {
   "cell_type": "code",
   "execution_count": null,
   "metadata": {},
   "outputs": [],
   "source": [
    "df.head(3) # 데이터 앞에 3개만 보여줌"
   ]
  },
  {
   "cell_type": "code",
   "execution_count": null,
   "metadata": {},
   "outputs": [],
   "source": [
    "df.tail(5) # 데이터 뒤에 5개만 보여줌"
   ]
  },
  {
   "cell_type": "code",
   "execution_count": null,
   "metadata": {},
   "outputs": [],
   "source": [
    "# 기존 인덱스를 제거하고 인덱스를 새로 부여하여 데이터프레임을 재설정\n",
    "# drop=True로 설정하여 기존 인덱스는 열로 추가되지 않음\n",
    "df = df.reset_index(drop=True)\n",
    "\n",
    "# df 데이터프레임을 출력하여 변경된 인덱스를 확인\n",
    "df\n",
    "\n",
    "# df 데이터프레임의 구조와 각 열에 대한 정보를 출력\n",
    "# 각 열의 데이터 타입과 null 값의 개수를 포함\n",
    "df.info()"
   ]
  },
  {
   "cell_type": "code",
   "execution_count": null,
   "metadata": {},
   "outputs": [],
   "source": [
    "# '날짜' 열과 '시간' 열을 활용하여 'Data' 열을 생성\n",
    "# '날짜' 열은 '%Y%m%d' 형식으로 변환하여 날짜 정보를 획득하고,\n",
    "# '시간' 열은 정수형으로 변환한 후 시간 정보를 'h' 단위로 변환하여 더함\n",
    "df['Data'] = pd.to_datetime(df['날짜'], format='%Y%m%d') + \\\n",
    "             pd.to_timedelta(df['시간'].astype(int), unit='h')\n",
    "\n",
    "# 데이터프레임의 인덱스를 'Data' 열로 설정\n",
    "# inplace=True로 설정하여 데이터프레임을 직접 수정함\n",
    "df.set_index(df['Data'], inplace=True)\n",
    "\n",
    "# 수정된 데이터프레임의 처음 세 행을 출력\n",
    "df.head(3)"
   ]
  },
  {
   "cell_type": "code",
   "execution_count": null,
   "metadata": {},
   "outputs": [],
   "source": [
    "# 필요한 열('Data', '수온(℃)', '수위(el.m)', 'EC(㎲/㎝)')만 선택하여 새로운 데이터프레임 df1 생성\n",
    "df1 = df[['Data', '수온(℃)', '수위(el.m)', 'EC(㎲/㎝)']]\n",
    "\n",
    "# 선택한 열들의 이름을 영문으로 변경\n",
    "df1.columns = ['Data', 'temp', 'level', 'EC']\n",
    "\n",
    "# 새로운 데이터프레임 df1의 처음 세 행을 출력\n",
    "df1.head(3)"
   ]
  },
  {
   "cell_type": "code",
   "execution_count": null,
   "metadata": {},
   "outputs": [],
   "source": [
    "# df1 데이터프레임의 각 열에 존재하는 결측값(null 값)의 개수를 계산하여 출력\n",
    "df1.isnull().sum()"
   ]
  },
  {
   "cell_type": "code",
   "execution_count": null,
   "metadata": {},
   "outputs": [],
   "source": [
    "# df1 데이터프레임을 'reference files/csv/대전지하수.csv' 파일로 저장\n",
    "# 파일 인코딩은 'cp949'를 사용하여 저장\n",
    "# index=True로 설정하여 인덱스도 함께 저장\n",
    "df1.to_csv('reference files/csv/대전지하수.csv', encoding='cp949', index=True)"
   ]
  },
  {
   "cell_type": "markdown",
   "metadata": {},
   "source": [
    "## 이상치를 제거하는 방법: 박스 플롯과 IQR\r\n",
    "\r\n",
    "이상치는 데이터 집합에서 일반적인 패턴에서 벗어나는 값으로, 분석 결과에 왜곡을 일으킬 수 있습니다. 이상치를 식별하고 제거하기 위한 일반적인 방법 중 하나는 박스 플롯과 IQR(Interquartile Range)을 사용하는 것입니다.\r\n",
    "\r\n",
    "### 박스 플롯(Box Plot)\r\n",
    "- 박스 플롯은 데이터의 분포를 시각화하는 그래프입니다. \r\n",
    "- 상자는 데이터의 중간 50%를 나타내며, 중앙값(또는 2사분위수)은 상자 안에 표시됩니다.\r\n",
    "- 상자 위쪽과 아래쪽의 선은 각각 데이터의 75번째 백분위수(Q3)와 25번째 백분위수(Q1)를 나타냅니다.\r\n",
    "- 박스의 길이는 IQR을 나타냅니다.\r\n",
    "\r\n",
    "### IQR(Interquartile Range)\r\n",
    "- IQR은 데이터의 중간 50% 범위를 나타내는 측정 지표입니다.\r\n",
    "- IQR은 Q3에서 Q1을 뺀 값으로 계산됩니다.\r\n",
    "- IQR을 사용하여 이상치를 식별하는 일반적인 방법은 아래와 같습니다:\r\n",
    "  - 최솟값: Q1 - 1.5 * IQR\r\n",
    "  - 최댓값: Q3 + 1.5 * IQR\r\n",
    "\r\n",
    "이상치는 이러한 최솟값보다 작거나 최댓값보다 큰 값으로 정의됩니다. 이상치를 제거하려면 이 범위를 벗어나는 데이터를 제거하면 됩니다.\r\n"
   ]
  },
  {
   "cell_type": "code",
   "execution_count": null,
   "metadata": {},
   "outputs": [],
   "source": [
    "# 'reference files/csv/대전지하수.csv' 파일을 읽어와서 데이터프레임 df2에 저장\n",
    "# 'Data' 열을 인덱스로 사용\n",
    "# parse_dates=True로 설정하여 'Data' 열을 날짜 형식으로 파싱\n",
    "# 파일 인코딩은 'cp949'를 사용하여 읽어옴\n",
    "df2 = pd.read_csv('reference files/csv/대전지하수.csv', index_col='Data', parse_dates=True, encoding='cp949')\n",
    "\n",
    "# df2 데이터프레임의 처음 네 행을 출력\n",
    "df2.head(4)"
   ]
  },
  {
   "cell_type": "code",
   "execution_count": null,
   "metadata": {},
   "outputs": [],
   "source": [
    "# df2 데이터프레임에 대한 요약 통계를 출력\n",
    "df2.describe()"
   ]
  },
  {
   "cell_type": "code",
   "execution_count": null,
   "metadata": {},
   "outputs": [],
   "source": [
    "# matplotlib.pyplot을 plt로 import\n",
    "import matplotlib.pyplot as plt\n",
    "\n",
    "# 시각화에서 한글 폰트를 Malgun Gothic으로 설정\n",
    "plt.rcParams['font.family'] = 'Malgun Gothic'\n",
    "\n",
    "# 마이너스 기호(-)가 깨지지 않도록 설정\n",
    "plt.rcParams['axes.unicode_minus'] = False\n",
    "\n",
    "# df2 데이터프레임의 히스토그램을 그림\n",
    "# bins=50으로 설정하여 히스토그램의 막대 개수를 50개로 지정\n",
    "# figsize=(10,6)으로 설정하여 그래프의 크기를 가로 10인치, 세로 6인치로 지정\n",
    "df2.hist(bins=50, figsize=(10, 6))\n",
    "\n",
    "# 그래프를 화면에 출력\n",
    "plt.show()"
   ]
  },
  {
   "cell_type": "code",
   "execution_count": null,
   "metadata": {},
   "outputs": [],
   "source": [
    "# df2 데이터프레임의 'EC' 열에 대한 상자 그림(Boxplot)을 그림\n",
    "df2.boxplot(column='EC')\n",
    "\n",
    "# 그래프를 화면에 출력\n",
    "plt.show()"
   ]
  },
  {
   "cell_type": "code",
   "execution_count": null,
   "metadata": {},
   "outputs": [],
   "source": [
    "# 1행 3열의 서브플롯을 생성하여 첫 번째 서브플롯에 'temp' 열에 대한 상자 그림(Boxplot)을 그림\n",
    "plt.subplot(1, 3, 1)\n",
    "df2.boxplot(column='temp', return_type='both')\n",
    "\n",
    "# 1행 3열의 서브플롯을 생성하여 두 번째 서브플롯에 'level' 열에 대한 상자 그림(Boxplot)을 그림\n",
    "plt.subplot(1, 3, 2)\n",
    "df2.boxplot(column='level', return_type='both')\n",
    "\n",
    "# 1행 3열의 서브플롯을 생성하여 세 번째 서브플롯에 'EC' 열에 대한 상자 그림(Boxplot)을 그림\n",
    "plt.subplot(1, 3, 3)\n",
    "df2.boxplot(column='EC', return_type='both')\n",
    "\n",
    "# 그래프를 화면에 출력\n",
    "plt.show()"
   ]
  },
  {
   "cell_type": "code",
   "execution_count": null,
   "metadata": {},
   "outputs": [],
   "source": [
    "# 'level' 열의 75th 백분위수(Q3)를 계산하고 출력\n",
    "q3_level = df2['level'].quantile(q=0.75)\n",
    "print(\"Q3:\", q3_level)\n",
    "\n",
    "# 'level' 열의 25th 백분위수(Q1)를 계산하고 출력\n",
    "q1_level = df2['level'].quantile(q=0.25)\n",
    "print(\"Q1:\", q1_level)\n",
    "\n",
    "# IQR(Interquartile Range)를 계산하여 출력\n",
    "# IQR은 Q3에서 Q1을 뺀 값으로, 데이터의 중간 50% 범위를 나타냄\n",
    "iqr_level = q3_level - q1_level\n",
    "print(\"IQR:\", iqr_level)"
   ]
  },
  {
   "cell_type": "code",
   "execution_count": null,
   "metadata": {},
   "outputs": [],
   "source": [
    "# Upper Level을 계산하고 출력\n",
    "# Upper Level은 Q3에서 1.5배 IQR을 더한 값으로, 이 값을 넘는 데이터는 이상치로 간주될 수 있음\n",
    "upper_level = q3_level + 1.5 * iqr_level\n",
    "print(\"Upper Level:\", upper_level)\n",
    "\n",
    "# Lower Level을 계산하고 출력\n",
    "# Lower Level은 Q1에서 1.5배 IQR을 뺀 값으로, 이 값을 넘는 데이터는 이상치로 간주될 수 있음\n",
    "lower_level = q1_level - 1.5 * iqr_level\n",
    "print(\"Lower Level:\", lower_level)\n",
    "\n",
    "# Upper Level을 초과하는 값의 개수를 계산하고 출력\n",
    "print(\"Values above upper level:\", (df2['level'] > upper_level).sum())\n",
    "\n",
    "# Lower Level을 미달하는 값의 개수를 계산하고 출력\n",
    "print(\"Values below lower level:\", (df2['level'] < lower_level).sum())"
   ]
  },
  {
   "cell_type": "code",
   "execution_count": null,
   "metadata": {},
   "outputs": [],
   "source": [
    "# IQR 범위를 벗어나는 이상치를 포함하는 데이터프레임을 생성하여 df_iqr_level에 저장\n",
    "df_iqr_level = df2[(df2['level'] > upper_level) & (df2['level'] < lower_level)]"
   ]
  }
 ],
 "metadata": {
  "colab": {
   "authorship_tag": "ABX9TyMn9OU79hyGhgT3Q7jtW4Kp",
   "provenance": []
  },
  "kernelspec": {
   "display_name": "Python 3 (ipykernel)",
   "language": "python",
   "name": "python3"
  },
  "language_info": {
   "codemirror_mode": {
    "name": "ipython",
    "version": 3
   },
   "file_extension": ".py",
   "mimetype": "text/x-python",
   "name": "python",
   "nbconvert_exporter": "python",
   "pygments_lexer": "ipython3",
   "version": "3.12.3"
  }
 },
 "nbformat": 4,
 "nbformat_minor": 4
}
