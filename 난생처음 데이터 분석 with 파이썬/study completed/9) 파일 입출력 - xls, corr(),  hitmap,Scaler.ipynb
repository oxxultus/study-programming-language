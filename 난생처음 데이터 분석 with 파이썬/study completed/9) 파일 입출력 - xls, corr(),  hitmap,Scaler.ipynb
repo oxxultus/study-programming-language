{
 "cells": [
  {
   "cell_type": "markdown",
   "id": "c0886c95-6efb-4e06-b2b7-42182edd7f3e",
   "metadata": {},
   "source": [
    "### 느낀점\n",
    "상관관계와 상관계수를 통해 두 변수 간의 관계를 이해하고 예측하는 것이 중요하다는 것을 알게 되었습니다. 상관계수를 통해 변수들 간의 연관성을 쉽게 파악할 수 있고, 이를 통해 데이터를 더 잘 이해하고 분석할 수 있을 것이라고 생각합니다. 또한, 히트맵과 스케일러와 같은 다양한 기법을 사용하여 데이터를 시각화하고 전처리하는 방법을 알게 되어 매우 유용하다고 생각됩니다. 이러한 기법들을 효과적으로 활용하여 데이터를 보완하고 분석하는 데에 사용해 보겠습니다."
   ]
  },
  {
   "cell_type": "code",
   "execution_count": null,
   "id": "4b176b3a-0486-452d-a83d-37e45f298c48",
   "metadata": {},
   "outputs": [],
   "source": [
    "import platform\n",
    "from matplotlib import font_manager, rc \n",
    "import matplotlib\n",
    "import matplotlib.pyplot as plt  # 맷플롯립의 pyplot 모듈을 임포트합니다\n",
    "import pandas as pd  # 판다스를 임포트합니다\n",
    "import numpy as np  # 넘파이를 임포트합니다\n",
    "import csv  # CSV 파일을 처리하기 위한 모듈을 임포트합니다"
   ]
  },
  {
   "cell_type": "code",
   "execution_count": null,
   "id": "bb625e15-3f63-410c-ade8-688117578a7a",
   "metadata": {},
   "outputs": [],
   "source": [
    "# '-' 부호가 제대로 표시되게 하는 설정 \n",
    "matplotlib.rcParams['axes.unicode_minus'] = False\n",
    "\n",
    "# 운영 체제마다 한글이 보이게 하는 설정 # 윈도우\n",
    "if platform.system() == 'Windows':\n",
    "    path = \"c:\\\\Windows\\\\Fonts\\\\malgun.ttf\"\n",
    "    font_name = font_manager.FontProperties(fname=path).get_name() \n",
    "    rc('font', family=font_name) \n",
    "elif platform.system() == 'Darwin':  #맥\n",
    "    rc('font', family='AppleGothic')\n",
    "elif platform.system() == 'Linux': # 리눅스\n",
    "    rc('font', family='NanumBarunGothic')\n",
    "from matplotlib import pyplot as plt\n",
    "\n",
    "%matplotlib inline"
   ]
  },
  {
   "cell_type": "markdown",
   "id": "9e23bfdb-2534-44be-9d52-f37b76dfe426",
   "metadata": {},
   "source": [
    "!pip install xlrd"
   ]
  },
  {
   "cell_type": "code",
   "execution_count": null,
   "id": "31337810-d02a-4726-80e5-9ae907449c5c",
   "metadata": {},
   "outputs": [],
   "source": [
    "power_data = pd.read_excel('reference files/xlsx/시도별_용도별.xls')\n",
    "print(power_data.shape)"
   ]
  },
  {
   "cell_type": "code",
   "execution_count": null,
   "id": "f962e959-8475-4342-83b3-c061292be7b9",
   "metadata": {},
   "outputs": [],
   "source": [
    "power_data.head(3)"
   ]
  },
  {
   "cell_type": "code",
   "execution_count": null,
   "id": "d64f36cd-d6ac-493e-9a50-43816835aa3c",
   "metadata": {},
   "outputs": [],
   "source": [
    "power_data.columns"
   ]
  },
  {
   "cell_type": "code",
   "execution_count": null,
   "id": "d57f880c-fca1-459a-9855-bed57cc55911",
   "metadata": {},
   "outputs": [],
   "source": [
    "power = power_data.set_index('구분')\n",
    "power.head(5)"
   ]
  },
  {
   "cell_type": "code",
   "execution_count": null,
   "id": "5543266b-6b9d-45d0-a8c5-5ff54ef51a07",
   "metadata": {},
   "outputs": [],
   "source": [
    "power_data.values"
   ]
  },
  {
   "cell_type": "code",
   "execution_count": null,
   "id": "0eaaa759-8384-486f-b94d-bda20594c19d",
   "metadata": {},
   "outputs": [],
   "source": [
    "power_data2 = pd.read_excel('reference files/xlsx/시도별_용도별.xls',header = 2)\n",
    "print(power_data2)\n",
    "power_data2.head(5)"
   ]
  },
  {
   "cell_type": "code",
   "execution_count": null,
   "id": "62d1636e-59fe-4a0b-89f7-b869c289343a",
   "metadata": {},
   "outputs": [],
   "source": [
    "power = power.drop(['개성','합계'], errors = 'ignore')  # errors 에러 무시\n",
    "power"
   ]
  },
  {
   "cell_type": "code",
   "execution_count": null,
   "id": "fe85efe4-2110-4853-b90e-352f6554c716",
   "metadata": {},
   "outputs": [],
   "source": [
    "power.info()"
   ]
  },
  {
   "cell_type": "code",
   "execution_count": null,
   "id": "0c6249f3-5b9b-46e6-9947-be038e2e981e",
   "metadata": {},
   "outputs": [],
   "source": [
    "power.describe()"
   ]
  },
  {
   "cell_type": "code",
   "execution_count": null,
   "id": "3b7a479b-cd0e-417b-8c01-5ef470c19afc",
   "metadata": {},
   "outputs": [],
   "source": [
    "power.count() #행 개수"
   ]
  },
  {
   "cell_type": "markdown",
   "id": "afe91803-7215-4d1a-b551-472162b6604c",
   "metadata": {},
   "source": [
    "### ★ 상관관계와 상관계수 \n",
    ".corr() : \r\n",
    "상관관계는 두 변수 간의 관계를 파악하는데 사용되는 중요한 개념입니다. 상관관계는 두 변수 간의 선형적인 관계의 강도를 측정하는 지표로, -1부터 1까지의 값을 가집니다.\r\n",
    "\r\n",
    "- 상관계수가 1에 가까울수록 두 변수 간에 강한 양의 선형 관계가 있음을 나타냅니다.\r\n",
    "- 상관계수가 -1에 가까울수록 두 변수 간에 강한 음의 선형 관계가 있음을 나타냅니다.\r\n",
    "- 상관계수가 0에 가까울수록 두 변수 간에 선형 관계가 거의 없거나 약한 관계가 있음을 나타냅니다.\r\n",
    "\r\n",
    "따라서, 상관계수를 통해 두 변수 간의 관계를 이해하고 예측하는데 유용한 정보를 얻을  있습니다.\r\n"
   ]
  },
  {
   "cell_type": "code",
   "execution_count": null,
   "id": "24350fb3-76bc-473b-af12-e59d83726525",
   "metadata": {},
   "outputs": [],
   "source": [
    "power.corr()"
   ]
  },
  {
   "cell_type": "code",
   "execution_count": null,
   "id": "13e89c85-f0ec-4975-96f2-a249a58ac6a5",
   "metadata": {},
   "outputs": [],
   "source": [
    "power = power[['서비스업','제조업']]\n",
    "power.head(3)"
   ]
  },
  {
   "cell_type": "code",
   "execution_count": null,
   "id": "86c09856-ddf2-4b2d-831b-324772ba6029",
   "metadata": {},
   "outputs": [],
   "source": [
    "plt.figure(figsize = (8,8))\n",
    "plt.scatter(power['서비스업'],power['제조업'],c='k',marker = 'o')\n",
    "plt.xlabel('서비스업')\n",
    "plt.ylabel('제조업')\n",
    "\n",
    "for n in range(power.shape[0]):\n",
    "    plt.text(power['서비스업'].iloc[n]*1.03, power['제조업'].iloc[n]*0.98, power.index[n])"
   ]
  },
  {
   "cell_type": "markdown",
   "id": "d78fbc5e-38aa-4408-9249-5f452f1d81bf",
   "metadata": {},
   "source": [
    "pip install seaborn"
   ]
  },
  {
   "cell_type": "markdown",
   "id": "e1e67e06-fbdb-4569-95db-a44f073ac6bf",
   "metadata": {},
   "source": [
    "pip install scipy"
   ]
  },
  {
   "cell_type": "markdown",
   "id": "8f002573-fc8a-4964-be4f-cc72e0eb2b08",
   "metadata": {},
   "source": [
    "pip install scikit-learn"
   ]
  },
  {
   "cell_type": "code",
   "execution_count": null,
   "id": "da70e654-83b0-49d1-8ca4-badef647012c",
   "metadata": {},
   "outputs": [],
   "source": [
    "import os\n",
    "os.environ['SKLEARN_ALLOW_DEPRECATED_SKLEARN_PACKAGE_INSTALL'] = 'True'"
   ]
  },
  {
   "cell_type": "code",
   "execution_count": null,
   "id": "1aaca947-f38d-438e-a3d9-f5be259a193b",
   "metadata": {},
   "outputs": [],
   "source": [
    "import seaborn as sns\n",
    "from scipy.stats import norm\n",
    "from sklearn.preprocessing import *\n",
    "from scipy import stats\n",
    "import warnings\n",
    "\n",
    "warnings.filterwarnings('ignore')\n",
    "%matplotlib inline"
   ]
  },
  {
   "cell_type": "code",
   "execution_count": null,
   "id": "64a131f8-abf9-4aeb-983f-98b8f6327db8",
   "metadata": {},
   "outputs": [],
   "source": [
    "df_train = pd.read_csv('reference files/csv/train.csv')\n",
    "df_train.columns[:10]\n",
    "df_train.shape"
   ]
  },
  {
   "cell_type": "code",
   "execution_count": null,
   "id": "f6a6c00c-2a71-4d22-9ccd-e8a5e05e7986",
   "metadata": {},
   "outputs": [],
   "source": [
    "df_train['SalePrice'].describe()"
   ]
  },
  {
   "cell_type": "code",
   "execution_count": null,
   "id": "cb39d044-3d61-4bd0-9c24-c6d0ec529bd0",
   "metadata": {},
   "outputs": [],
   "source": [
    "sns.distplot(df_train['SalePrice'])"
   ]
  },
  {
   "cell_type": "code",
   "execution_count": null,
   "id": "70b0295b-e6e0-438a-b936-4b60cec4e1e1",
   "metadata": {},
   "outputs": [],
   "source": [
    "var = 'GrLivArea'\n",
    "#var = input('알고싶은데이터?')\n",
    "data = pd.concat([df_train['SalePrice'],df_train[var]],axis = 1) #연결\n",
    "data"
   ]
  },
  {
   "cell_type": "code",
   "execution_count": null,
   "id": "a3114e0e-77fc-4ced-a16d-18f0b7db46cf",
   "metadata": {},
   "outputs": [],
   "source": [
    "data.plot.scatter(x=var,y='SalePrice',ylim=(0,1000000))"
   ]
  },
  {
   "cell_type": "markdown",
   "id": "8a96c06e-98f9-4e17-8175-8990bd7f57f6",
   "metadata": {},
   "source": [
    "### ★ 특성 선택\n",
    "- 특성 선택을 임의로 주관적으로 수행하는 것은 한계가 있다.\n",
    "- 객관적인 특성 선택 방법이 필요하다.\n",
    "- 이를 위해 히트맵 방식의 상관관계 매트릭스나 산포도를 사용하면 유용하다.\n",
    "\n",
    "#### ❖ 1. 히트맵(Heatmap)\n",
    "- X축과 Y축에 2개의 범주형 자료의 계급(class)별로 연속형 자료를 집계한 자료를 사용\n",
    "- 집계한 값에 비례하여 색깔을 다르게 해서 2차원으로 자료를 시각화하는 것\n",
    "- https://seaborn.pydata.org/generated/seaborn.heatmap.html\n",
    "\n",
    "#### ❖ 2. 상관관계 매트릭스\n",
    "df_heatmap = sns.heatmap(corr, cbar = True, annot = True, annot_kws={'size' : 20}, fmt = '.2f', square = True, cmap = 'Blues')\n",
    "\n",
    "> - cbar :  오른쪽에 있는 막대(범주)를 표시하는 것\n",
    "> - annot : 상관계수를 표시\n",
    "> - annot_kws :  상관계수의 글자 크기를 지정합니다.\n",
    "> - fmt : 상관계수의 소수점 자리수를 지정합니다.\n",
    "> - square : 정사각형으로 지정하는 것이며, False로 설정 시 직사각형이 됨.\n",
    "> - cmap : 색상을 지정"
   ]
  },
  {
   "cell_type": "code",
   "execution_count": null,
   "id": "988247f2-17f1-4682-bf95-0027b144dfeb",
   "metadata": {},
   "outputs": [],
   "source": [
    "# 문자열을 포함한 열을 제거합니다.\n",
    "# SalePrice 열을 제외한 모든 열을 선택합니다.\n",
    "df_numeric = df_train.select_dtypes(include=['number']).drop(columns=['SalePrice'])\n",
    "\n",
    "# 상관 행렬을 계산합니다.\n",
    "corrmat = df_numeric.corr()\n",
    "\n",
    "\n",
    "# 상관 행렬을 계산합니다.\n",
    "corrmat = df_numeric.corr()"
   ]
  },
  {
   "cell_type": "code",
   "execution_count": null,
   "id": "394608c8-8a52-4c45-b23c-91b4126e0693",
   "metadata": {},
   "outputs": [],
   "source": [
    "f, ax = plt.subplots(figsize=(20, 9))\n",
    "sns.heatmap(corrmat, annot =True,annot_kws = {'size':6},fmt = '.2f',vmax=0.8, square=False, cmap = 'Blues')\n",
    "plt.show()"
   ]
  },
  {
   "cell_type": "code",
   "execution_count": null,
   "id": "6a6bd32c-3fa1-4cde-b5c2-0318ea18b0ac",
   "metadata": {},
   "outputs": [],
   "source": [
    "import pandas as pd\n",
    "\n",
    "# 결측값의 총합을 계산하여 내림차순으로 정렬\n",
    "total = df_train.isnull().sum().sort_values(ascending=False)\n",
    "\n",
    "# 결측값의 비율을 계산하여 내림차순으로 정렬\n",
    "percent = (df_train.isnull().sum() / len(df_train)).sort_values(ascending=False)\n",
    "\n",
    "# 결측값의 총합과 비율을 데이터 프레임으로 결합\n",
    "missing_data = pd.concat([total, percent], axis=1, keys=['Total', 'Percent'])\n",
    "\n",
    "# 상위 20개의 결과 출력\n",
    "missing_data.head(20)\n"
   ]
  },
  {
   "cell_type": "code",
   "execution_count": null,
   "id": "3ebd4ab3-f52a-41ae-97a3-1520d5378358",
   "metadata": {},
   "outputs": [],
   "source": [
    "# 결측값이 1개 이상인 열을 삭제\n",
    "df_train = df_train.drop((missing_data[missing_data['Total'] > 1]).index, axis=1)\n",
    "\n",
    "# 'Electrical' 열의 결측값이 있는 행을 삭제\n",
    "df_train = df_train.drop(df_train[df_train['Electrical'].isnull()].index)\n",
    "\n",
    "# 데이터 프레임 내의 결측값의 최대값을 출력\n",
    "print(df_train.isnull().sum().max())\n",
    "\n",
    "# 결과 출력\n",
    "df_train.head()"
   ]
  },
  {
   "cell_type": "markdown",
   "id": "1fae3c05-2963-4330-b13c-8ffc2552f652",
   "metadata": {},
   "source": [
    "### ★ 스케일러 종류\r\n",
    "\r\n",
    "1. StandardScaler\r\n",
    "   - 각 feature의 평균을 0, 분산을 1로 변환하여 데이터의 스케일을 조정합니다.\r\n",
    "\r\n",
    "2. RobustScaler\r\n",
    "   - 평균과 분산 대신 중앙값(median)과 사분위수(25%, 50%, 75%)를 사용하여 이상치에 강건한 스케일링을 수행합니다.\r\n",
    "\r\n",
    "3. MinMaxScaler\r\n",
    "   - 모든 데이터를 0과 1 사이에 위치하도록 스케일을 조정합니다. 데이터의 범위를 유지하면서 스케일을 조정하는 데 사용됩니다.\r\n",
    "\r\n",
    "4. Normalizer\r\n",
    "   - 각 행(row)의 유클리드 거리(norm)가 1이 되도록 데이터를 스케일링합니다. 주로 벡터 데이터의 크기를 조절할 때 사용됩니다.\r\n"
   ]
  },
  {
   "cell_type": "code",
   "execution_count": null,
   "id": "a17efaa3-295b-4395-a7fd-7c14d81e0b49",
   "metadata": {},
   "outputs": [],
   "source": [
    "import numpy as np\n",
    "from sklearn.preprocessing import StandardScaler\n",
    "\n",
    "# SalePrice 열을 NumPy 배열로 변환합니다\n",
    "saleprice_array = df_train['SalePrice'].values.reshape(-1, 1)\n",
    "\n",
    "# 변환된 배열을 표준화합니다\n",
    "scaler = StandardScaler()\n",
    "saleprice_scaled = scaler.fit_transform(saleprice_array)\n",
    "\n",
    "# 표준화된 값들을 정렬하여 하위 10개와 상위 10개 값을 추출합니다\n",
    "low_range = saleprice_scaled[saleprice_scaled[:, 0].argsort()][:10]\n",
    "high_range = saleprice_scaled[saleprice_scaled[:, 0].argsort()][-10:]\n",
    "\n",
    "print('outer range (low) of the distribution:')\n",
    "print(low_range)\n",
    "\n",
    "print('\\nouter range (high) of the distribution:')\n",
    "print(high_range)"
   ]
  },
  {
   "cell_type": "code",
   "execution_count": null,
   "id": "d5be8fb4-619e-4b2e-85da-0705f958029a",
   "metadata": {},
   "outputs": [],
   "source": [
    "import numpy as np\n",
    "import pandas as pd\n",
    "import matplotlib.pyplot as plt\n",
    "\n",
    "# 데이터 프레임 생성\n",
    "df = pd.DataFrame({\n",
    "    'x1': np.random.chisquare(8,1000),\n",
    "    'x2': np.random.beta(8, 2, 1000)*40,\n",
    "    'x3': np.random.normal(50, 3, 1000)\n",
    "})"
   ]
  },
  {
   "cell_type": "code",
   "execution_count": null,
   "id": "4f95b263-df8b-40ff-b464-a4688843ffb4",
   "metadata": {},
   "outputs": [],
   "source": [
    "from sklearn.preprocessing import StandardScaler\n",
    "\n",
    "# StandardScaler 적용\n",
    "scaler_standard = StandardScaler()\n",
    "df_standard_scaled = scaler_standard.fit_transform(df)\n",
    "\n",
    "# 데이터 프레임으로 변환\n",
    "df_standard_scaled = pd.DataFrame(df_standard_scaled, columns=['x1', 'x2', 'x3'])\n",
    "\n",
    "# KDE 그래프 그리기\n",
    "df_standard_scaled.plot.kde()\n",
    "plt.title('StandardScaler KDE')\n",
    "plt.show()"
   ]
  },
  {
   "cell_type": "code",
   "execution_count": null,
   "id": "48c4632f-5c70-46c5-a7e6-9a301b718fae",
   "metadata": {},
   "outputs": [],
   "source": [
    "from sklearn.preprocessing import RobustScaler\n",
    "\n",
    "# RobustScaler 적용\n",
    "scaler_robust = RobustScaler()\n",
    "df_robust_scaled = scaler_robust.fit_transform(df)\n",
    "\n",
    "# 데이터 프레임으로 변환\n",
    "df_robust_scaled = pd.DataFrame(df_robust_scaled, columns=['x1', 'x2', 'x3'])\n",
    "\n",
    "# KDE 그래프 그리기\n",
    "df_robust_scaled.plot.kde()\n",
    "plt.title('RobustScaler KDE')\n",
    "plt.show()"
   ]
  },
  {
   "cell_type": "code",
   "execution_count": null,
   "id": "04827ea3-4f86-4304-a241-06dc73959284",
   "metadata": {},
   "outputs": [],
   "source": [
    "from sklearn.preprocessing import MinMaxScaler\n",
    "\n",
    "# MinMaxScaler 적용\n",
    "scaler_minmax = MinMaxScaler()\n",
    "df_minmax_scaled = scaler_minmax.fit_transform(df)\n",
    "\n",
    "# 데이터 프레임으로 변환\n",
    "df_minmax_scaled = pd.DataFrame(df_minmax_scaled, columns=['x1', 'x2', 'x3'])\n",
    "\n",
    "# KDE 그래프 그리기\n",
    "df_minmax_scaled.plot.kde()\n",
    "plt.title('MinMaxScaler KDE')\n",
    "plt.show()"
   ]
  },
  {
   "cell_type": "code",
   "execution_count": null,
   "id": "f55c972d-ed75-4bc2-b978-8263ae753b77",
   "metadata": {},
   "outputs": [],
   "source": [
    "from sklearn.preprocessing import Normalizer\n",
    "\n",
    "# Normalizer 적용\n",
    "scaler_normalizer = Normalizer()\n",
    "df_normalized = scaler_normalizer.fit_transform(df)\n",
    "\n",
    "# 데이터 프레임으로 변환\n",
    "df_normalized = pd.DataFrame(df_normalized, columns=['x1', 'x2', 'x3'])\n",
    "\n",
    "# KDE 그래프 그리기\n",
    "df_normalized.plot.kde()\n",
    "plt.title('Normalizer KDE')\n",
    "plt.show()"
   ]
  },
  {
   "cell_type": "code",
   "execution_count": null,
   "id": "97d00ad1-7880-4803-bbdb-2078ce0d26fc",
   "metadata": {},
   "outputs": [],
   "source": [
    "def print_ranges(scaled_data, scaler_name):\n",
    "    sorted_scaled = np.sort(scaled_data, axis=0)\n",
    "    low_range = sorted_scaled[:10]\n",
    "    high_range = sorted_scaled[-10:]\n",
    "\n",
    "    print(f'outer range (low) of the distribution for {scaler_name}:')\n",
    "    print(low_range)\n",
    "    print(f'\\nouter range (high) of the distribution for {scaler_name}:')\n",
    "    print(high_range)\n",
    "    print('\\n')\n",
    "\n",
    "# StandardScaler\n",
    "print_ranges(df_standard_scaled.values, 'StandardScaler')\n",
    "\n",
    "# RobustScaler\n",
    "print_ranges(df_robust_scaled.values, 'RobustScaler')\n",
    "\n",
    "# MinMaxScaler\n",
    "print_ranges(df_minmax_scaled.values, 'MinMaxScaler')\n",
    "\n",
    "# Normalizer\n",
    "print_ranges(df_normalized.values, 'Normalizer')"
   ]
  },
  {
   "cell_type": "markdown",
   "id": "ea908c8b-21f2-4ab9-8100-150b76c96392",
   "metadata": {},
   "source": [
    "### **탐색적 데이터 분석(Exploratory Data Analysis, EDA)** \n",
    "은 데이터의 전체적인 특성을 이해하고 파악하는 과정입니다. 데이터를 시각화하여 그래프를 그리고 통계적 방법을 사용하여 데이터의 구조를 탐색합니다. 주요 내용은 다음과 같습니다:\r\n",
    "\r\n",
    "- 데이터 탐색: 데이터의 전반적인 특성을 파악합니다.\r\n",
    "- 시각화: 데이터를 시각화하여 그래프를 그립니다. 히스토그램, 박스 플롯 등의 그래프를 사용합니다.\r\n",
    "- 범주형 데이터: 문자를 숫자로 대체하여 데이터를 변환합니다. 예를 들어, 요일을 월화수 -> 1, 2, 3과 같이 변환할 수 있습니다.\r\n",
    "- 순서형 데이터: 여성의 옷 사이즈와 같은 순서가 있는 데이터를 다룹니다. 이러한 데이터는 숫자로 표현되지만 순서를 가지고 있습니다.\r\n",
    "- 정형과 비정형 데이터: 정형화된 데이터로 바꾸어야 하는 비정형 데이터를 처리합니다. 이는 데이터를 일관된 형식으로 변환하여 분석을 용이하수 있습니다.\r\n"
   ]
  }
 ],
 "metadata": {
  "kernelspec": {
   "display_name": "Python 3 (ipykernel)",
   "language": "python",
   "name": "python3"
  },
  "language_info": {
   "codemirror_mode": {
    "name": "ipython",
    "version": 3
   },
   "file_extension": ".py",
   "mimetype": "text/x-python",
   "name": "python",
   "nbconvert_exporter": "python",
   "pygments_lexer": "ipython3",
   "version": "3.12.3"
  }
 },
 "nbformat": 4,
 "nbformat_minor": 5
}
